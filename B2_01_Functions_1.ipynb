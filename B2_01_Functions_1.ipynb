{
  "nbformat": 4,
  "nbformat_minor": 0,
  "metadata": {
    "colab": {
      "provenance": [],
      "authorship_tag": "ABX9TyNEM1oV3U+/UVLKEIaO9LR7",
      "include_colab_link": true
    },
    "kernelspec": {
      "name": "python3",
      "display_name": "Python 3"
    },
    "language_info": {
      "name": "python"
    }
  },
  "cells": [
    {
      "cell_type": "markdown",
      "metadata": {
        "id": "view-in-github",
        "colab_type": "text"
      },
      "source": [
        "<a href=\"https://colab.research.google.com/github/kavinkumarm/python/blob/main/B2_01_Functions_1.ipynb\" target=\"_parent\"><img src=\"https://colab.research.google.com/assets/colab-badge.svg\" alt=\"Open In Colab\"/></a>"
      ]
    },
    {
      "cell_type": "markdown",
      "source": [
        "#Functions"
      ],
      "metadata": {
        "id": "HEvPPCQ9TlQ1"
      }
    },
    {
      "cell_type": "code",
      "execution_count": 2,
      "metadata": {
        "colab": {
          "base_uri": "https://localhost:8080/"
        },
        "id": "PnwXrrcMTC68",
        "outputId": "8b375b5a-5672-4728-bb5a-81db631cde9f"
      },
      "outputs": [
        {
          "output_type": "stream",
          "name": "stdout",
          "text": [
            "Dust all the rooms\n",
            "Arrange the living area\n",
            "Don't misbehave infront of the guest\n",
            "Great them when they enter\n"
          ]
        }
      ],
      "source": [
        "#Guest 1 Came today Parents instaructions\n",
        "print(\"Dust all the rooms\")\n",
        "print(\"Arrange the living area\")\n",
        "print(\"Don't misbehave infront of the guest\")\n",
        "print(\"Great them when they enter\")"
      ]
    },
    {
      "cell_type": "code",
      "source": [
        "#Guest 2 Came today Parents instaructions\n",
        "print(\"Dust all the rooms\")\n",
        "print(\"Arrange the living area\")\n",
        "print(\"Don't misbehave infront of the guest\")\n",
        "print(\"Great them when they enter\")"
      ],
      "metadata": {
        "colab": {
          "base_uri": "https://localhost:8080/"
        },
        "id": "79L8aWuVUP-W",
        "outputId": "c772b380-0236-46b8-c43f-7478fe30458f"
      },
      "execution_count": 3,
      "outputs": [
        {
          "output_type": "stream",
          "name": "stdout",
          "text": [
            "Dust all the rooms\n",
            "Arrange the living area\n",
            "Don't misbehave infront of the guest\n",
            "Great them when they enter\n"
          ]
        }
      ]
    },
    {
      "cell_type": "code",
      "source": [
        "#Guest 3 Came today Parents instaructions\n",
        "print(\"Dust all the rooms\")\n",
        "print(\"Arrange the living area\")\n",
        "print(\"Don't misbehave infront of the guest\")\n",
        "print(\"Great them when they enter\")"
      ],
      "metadata": {
        "colab": {
          "base_uri": "https://localhost:8080/"
        },
        "id": "ZKyJWolaUTL5",
        "outputId": "5fdd9654-834c-4119-c1d9-4384a0a7dbf0"
      },
      "execution_count": 4,
      "outputs": [
        {
          "output_type": "stream",
          "name": "stdout",
          "text": [
            "Dust all the rooms\n",
            "Arrange the living area\n",
            "Don't misbehave infront of the guest\n",
            "Great them when they enter\n"
          ]
        }
      ]
    },
    {
      "cell_type": "markdown",
      "source": [
        "Code repetition is problem"
      ],
      "metadata": {
        "id": "J1jUteVWUWOX"
      }
    },
    {
      "cell_type": "code",
      "source": [
        "#Functions --> designed to perform a designated functionality/task"
      ],
      "metadata": {
        "id": "GWpXDn3DUZcv"
      },
      "execution_count": 5,
      "outputs": []
    },
    {
      "cell_type": "code",
      "source": [
        "#Syntex"
      ],
      "metadata": {
        "id": "DA5E2IqwU2TJ"
      },
      "execution_count": 6,
      "outputs": []
    },
    {
      "cell_type": "code",
      "source": [
        "def guest_welcome():\n",
        "  print(\"Dust all the rooms\")\n",
        "  print(\"Arrange the living area\")\n",
        "  print(\"Don't misbehave infront of the guest\")\n",
        "  print(\"Great them when they enter\")"
      ],
      "metadata": {
        "id": "VQ2DThXNU37i"
      },
      "execution_count": 7,
      "outputs": []
    },
    {
      "cell_type": "code",
      "source": [
        "guest_welcome() #Function calling"
      ],
      "metadata": {
        "colab": {
          "base_uri": "https://localhost:8080/"
        },
        "id": "dHSKNTXnVABu",
        "outputId": "cc4dc520-10e3-4a25-99ae-ae79f7595a91"
      },
      "execution_count": 9,
      "outputs": [
        {
          "output_type": "stream",
          "name": "stdout",
          "text": [
            "Dust all the rooms\n",
            "Arrange the living area\n",
            "Don't misbehave infront of the guest\n",
            "Great them when they enter\n"
          ]
        }
      ]
    },
    {
      "cell_type": "code",
      "source": [
        "guest_welcome()"
      ],
      "metadata": {
        "colab": {
          "base_uri": "https://localhost:8080/"
        },
        "id": "4OHQnYFzVE-n",
        "outputId": "8452f4f5-c0fd-4aa8-d19e-553bbe1ee602"
      },
      "execution_count": 11,
      "outputs": [
        {
          "output_type": "stream",
          "name": "stdout",
          "text": [
            "Dust all the rooms\n",
            "Arrange the living area\n",
            "Don't misbehave infront of the guest\n",
            "Great them when they enter\n"
          ]
        }
      ]
    },
    {
      "cell_type": "code",
      "source": [
        "guest_welcome()"
      ],
      "metadata": {
        "colab": {
          "base_uri": "https://localhost:8080/"
        },
        "id": "Eu6DQGF2VJ3j",
        "outputId": "464d3e93-c53f-44a0-d2ce-9d7903c4e11a"
      },
      "execution_count": 12,
      "outputs": [
        {
          "output_type": "stream",
          "name": "stdout",
          "text": [
            "Dust all the rooms\n",
            "Arrange the living area\n",
            "Don't misbehave infront of the guest\n",
            "Great them when they enter\n"
          ]
        }
      ]
    },
    {
      "cell_type": "code",
      "source": [
        "#What is the output? ==>3\n",
        "def solve():\n",
        "  print(\"1\")\n",
        "  print(\"2\")\n",
        "\n",
        "print(\"3\")"
      ],
      "metadata": {
        "colab": {
          "base_uri": "https://localhost:8080/"
        },
        "id": "U_2hd8iZVM90",
        "outputId": "a23aece7-2885-4766-ff7e-4e9c2c872ad5"
      },
      "execution_count": 13,
      "outputs": [
        {
          "output_type": "stream",
          "name": "stdout",
          "text": [
            "3\n"
          ]
        }
      ]
    },
    {
      "cell_type": "code",
      "source": [
        "solve() #function calling"
      ],
      "metadata": {
        "colab": {
          "base_uri": "https://localhost:8080/"
        },
        "id": "Ih1Y4N4HVhG9",
        "outputId": "1dfddfa7-8da9-4524-dd92-82fd924f7471"
      },
      "execution_count": 15,
      "outputs": [
        {
          "output_type": "stream",
          "name": "stdout",
          "text": [
            "1\n",
            "2\n"
          ]
        }
      ]
    },
    {
      "cell_type": "code",
      "source": [
        "#How  Zomotto or swiggy giving persolnalized greet message\n",
        "##Hi Kavin , are you hungry your midnight briyani is waiting at few steps away"
      ],
      "metadata": {
        "id": "VO8akGt0Vlv5"
      },
      "execution_count": null,
      "outputs": []
    },
    {
      "cell_type": "code",
      "source": [
        "def greet(name):\n",
        "  print(\"Hi Kavin, are you hungry?\")"
      ],
      "metadata": {
        "id": "Gp8osvs-WwHr"
      },
      "execution_count": 16,
      "outputs": []
    },
    {
      "cell_type": "code",
      "source": [
        "'''\n",
        "Question:\n",
        "Take a name as an input\n",
        "Write a greeting function that prints \"Hello name\" after accepting the name as a parameter\n",
        "\n",
        "ip: AJ\n",
        "op: Hello AJ\n",
        "\n",
        "ip: Vinit\n",
        "op: Hello Vinit\n",
        "'''"
      ],
      "metadata": {
        "id": "M2PCfBh1W6lX"
      },
      "execution_count": null,
      "outputs": []
    },
    {
      "cell_type": "code",
      "source": [
        "name = input()"
      ],
      "metadata": {
        "colab": {
          "base_uri": "https://localhost:8080/"
        },
        "id": "SOGEvCwzXK9N",
        "outputId": "3249211e-ad08-478e-ef69-79b1c2002067"
      },
      "execution_count": 17,
      "outputs": [
        {
          "name": "stdout",
          "output_type": "stream",
          "text": [
            "Kavin\n"
          ]
        }
      ]
    },
    {
      "cell_type": "code",
      "source": [
        "print(name)"
      ],
      "metadata": {
        "colab": {
          "base_uri": "https://localhost:8080/"
        },
        "id": "-gQdbLEWXQi_",
        "outputId": "fbafe224-564e-4b8c-ee80-923a533db5ba"
      },
      "execution_count": 18,
      "outputs": [
        {
          "output_type": "stream",
          "name": "stdout",
          "text": [
            "Kavin\n"
          ]
        }
      ]
    },
    {
      "cell_type": "code",
      "source": [
        "def greet_person():\n",
        "  print(\"Hello, name\")"
      ],
      "metadata": {
        "id": "m3OTkKJxXTvO"
      },
      "execution_count": 19,
      "outputs": []
    },
    {
      "cell_type": "code",
      "source": [
        "greet_person()"
      ],
      "metadata": {
        "colab": {
          "base_uri": "https://localhost:8080/"
        },
        "id": "PoRfQsiBXbsK",
        "outputId": "d009a0bb-6f70-4940-f7b0-303678472b42"
      },
      "execution_count": 21,
      "outputs": [
        {
          "output_type": "stream",
          "name": "stdout",
          "text": [
            "Hello, name\n"
          ]
        }
      ]
    },
    {
      "cell_type": "code",
      "source": [
        "def greet_person(name):\n",
        "  print(\"Hello\", name)"
      ],
      "metadata": {
        "id": "eCdCyWZ9XdcI"
      },
      "execution_count": 27,
      "outputs": []
    },
    {
      "cell_type": "code",
      "source": [
        "greet_person(\"Kavin\")"
      ],
      "metadata": {
        "colab": {
          "base_uri": "https://localhost:8080/"
        },
        "id": "0gAzyVYPXg1D",
        "outputId": "7e223b47-dab8-434d-9360-7f97469b6f45"
      },
      "execution_count": 29,
      "outputs": [
        {
          "output_type": "stream",
          "name": "stdout",
          "text": [
            "Hello Kavin\n"
          ]
        }
      ]
    },
    {
      "cell_type": "code",
      "source": [
        "greet_person(\"Vinith\")"
      ],
      "metadata": {
        "colab": {
          "base_uri": "https://localhost:8080/"
        },
        "id": "eg4AFiLnX28Y",
        "outputId": "15f5883f-15aa-42c2-becf-c834b979b89f"
      },
      "execution_count": 30,
      "outputs": [
        {
          "output_type": "stream",
          "name": "stdout",
          "text": [
            "Hello Vinith\n"
          ]
        }
      ]
    },
    {
      "cell_type": "code",
      "source": [
        "greet_person(\"Ravin\")"
      ],
      "metadata": {
        "colab": {
          "base_uri": "https://localhost:8080/"
        },
        "id": "ndA3yhKGYD1d",
        "outputId": "f420c2d3-bf99-4cab-c2a8-22576daae1a6"
      },
      "execution_count": 31,
      "outputs": [
        {
          "output_type": "stream",
          "name": "stdout",
          "text": [
            "Hello Ravin\n"
          ]
        }
      ]
    },
    {
      "cell_type": "code",
      "source": [
        "name = \"Kavin\"\n",
        "greet_person(name)"
      ],
      "metadata": {
        "colab": {
          "base_uri": "https://localhost:8080/"
        },
        "id": "XRo5vo60YBCe",
        "outputId": "94c308f2-dd59-4f81-895d-b29872bdea32"
      },
      "execution_count": 32,
      "outputs": [
        {
          "output_type": "stream",
          "name": "stdout",
          "text": [
            "Hello Kavin\n"
          ]
        }
      ]
    },
    {
      "cell_type": "code",
      "source": [
        "name = \"Ravin\"\n",
        "greet_person(name)"
      ],
      "metadata": {
        "colab": {
          "base_uri": "https://localhost:8080/"
        },
        "id": "4eeuSwl9YQAy",
        "outputId": "8f12b8b7-7365-4cce-be54-8e8930a38641"
      },
      "execution_count": 33,
      "outputs": [
        {
          "output_type": "stream",
          "name": "stdout",
          "text": [
            "Hello Ravin\n"
          ]
        }
      ]
    },
    {
      "cell_type": "code",
      "source": [
        "name = input()\n",
        "greet_person(name)"
      ],
      "metadata": {
        "colab": {
          "base_uri": "https://localhost:8080/"
        },
        "id": "ejyKBT7yYUsW",
        "outputId": "86ce1b47-90be-4b01-a9eb-8e6a3e83841b"
      },
      "execution_count": 34,
      "outputs": [
        {
          "output_type": "stream",
          "name": "stdout",
          "text": [
            "Adi\n",
            "Hello Adi\n"
          ]
        }
      ]
    },
    {
      "cell_type": "code",
      "source": [
        "greet_person(name=input())"
      ],
      "metadata": {
        "colab": {
          "base_uri": "https://localhost:8080/"
        },
        "id": "rThBCK6QYXxM",
        "outputId": "b7f942e4-81c0-4055-8434-e1c98c86de7b"
      },
      "execution_count": 35,
      "outputs": [
        {
          "output_type": "stream",
          "name": "stdout",
          "text": [
            "Rajesh\n",
            "Hello Rajesh\n"
          ]
        }
      ]
    },
    {
      "cell_type": "code",
      "source": [
        "#Car Example"
      ],
      "metadata": {
        "id": "tWbYhsgQYfzY"
      },
      "execution_count": 36,
      "outputs": []
    },
    {
      "cell_type": "code",
      "source": [
        "'''\n",
        "Create a function to print the specifications of a car\n",
        "\n",
        "Color\n",
        "Brand\n",
        "Price\n",
        "'''"
      ],
      "metadata": {
        "colab": {
          "base_uri": "https://localhost:8080/",
          "height": 36
        },
        "id": "ZeI4zrmmYoFu",
        "outputId": "fd9da011-8dc8-4e2e-f62f-ed63e0a3ce61"
      },
      "execution_count": 37,
      "outputs": [
        {
          "output_type": "execute_result",
          "data": {
            "text/plain": [
              "'\\nCreate a function to print the specifications of a car\\n\\nColor\\nBrand\\nPrice\\n'"
            ],
            "application/vnd.google.colaboratory.intrinsic+json": {
              "type": "string"
            }
          },
          "metadata": {},
          "execution_count": 37
        }
      ]
    },
    {
      "cell_type": "code",
      "source": [
        "def car_specs(color, brand, price):\n",
        "  print(\"Color is\", color)\n",
        "  print(\"Brand is\", brand)\n",
        "  print(\"Price is\", price)"
      ],
      "metadata": {
        "id": "loNZaoiaYrjy"
      },
      "execution_count": 38,
      "outputs": []
    },
    {
      "cell_type": "code",
      "source": [
        "car_specs(\"Red\",\"Maruthi\",200)"
      ],
      "metadata": {
        "colab": {
          "base_uri": "https://localhost:8080/"
        },
        "id": "07YQb2HVY-kO",
        "outputId": "b9668ee5-1b38-4020-b6fe-cdb4de80d852"
      },
      "execution_count": 39,
      "outputs": [
        {
          "output_type": "stream",
          "name": "stdout",
          "text": [
            "Color is Red\n",
            "Brand is Maruthi\n",
            "Price is 200\n"
          ]
        }
      ]
    },
    {
      "cell_type": "code",
      "source": [
        "car_specs(\"Blue\",\"TATA\",400) #Positional arguments"
      ],
      "metadata": {
        "colab": {
          "base_uri": "https://localhost:8080/"
        },
        "id": "Vkb3TMgYZIzk",
        "outputId": "6bf13eee-6582-4e33-d569-47ab67027ca5"
      },
      "execution_count": 40,
      "outputs": [
        {
          "output_type": "stream",
          "name": "stdout",
          "text": [
            "Color is Blue\n",
            "Brand is TATA\n",
            "Price is 400\n"
          ]
        }
      ]
    },
    {
      "cell_type": "code",
      "source": [
        "car_specs(\"TATA\",\"Blue\",400) #Positional arguments"
      ],
      "metadata": {
        "colab": {
          "base_uri": "https://localhost:8080/"
        },
        "id": "EMElilYGZVf_",
        "outputId": "dea79f92-c7b6-4623-ba1d-be97a5443120"
      },
      "execution_count": 41,
      "outputs": [
        {
          "output_type": "stream",
          "name": "stdout",
          "text": [
            "Color is TATA\n",
            "Brand is Blue\n",
            "Price is 400\n"
          ]
        }
      ]
    },
    {
      "cell_type": "markdown",
      "source": [
        "--> Doesn't recognize the color is blue"
      ],
      "metadata": {
        "id": "HWVmMPJdZgKG"
      }
    },
    {
      "cell_type": "code",
      "source": [
        "car_specs(\"Blue\",\"Maruthi\")"
      ],
      "metadata": {
        "colab": {
          "base_uri": "https://localhost:8080/",
          "height": 148
        },
        "id": "YtEH_zpbZcIM",
        "outputId": "ca2fbc44-19be-43a8-ccf8-967d28ae921e"
      },
      "execution_count": 42,
      "outputs": [
        {
          "output_type": "error",
          "ename": "TypeError",
          "evalue": "car_specs() missing 1 required positional argument: 'price'",
          "traceback": [
            "\u001b[0;31m---------------------------------------------------------------------------\u001b[0m",
            "\u001b[0;31mTypeError\u001b[0m                                 Traceback (most recent call last)",
            "\u001b[0;32m<ipython-input-42-7e4f82a58956>\u001b[0m in \u001b[0;36m<cell line: 0>\u001b[0;34m()\u001b[0m\n\u001b[0;32m----> 1\u001b[0;31m \u001b[0mcar_specs\u001b[0m\u001b[0;34m(\u001b[0m\u001b[0;34m\"Blue\"\u001b[0m\u001b[0;34m,\u001b[0m\u001b[0;34m\"Maruthi\"\u001b[0m\u001b[0;34m)\u001b[0m\u001b[0;34m\u001b[0m\u001b[0;34m\u001b[0m\u001b[0m\n\u001b[0m",
            "\u001b[0;31mTypeError\u001b[0m: car_specs() missing 1 required positional argument: 'price'"
          ]
        }
      ]
    },
    {
      "cell_type": "code",
      "source": [
        "car_specs(\"Blue\",\"Maruthi\",500,9)"
      ],
      "metadata": {
        "colab": {
          "base_uri": "https://localhost:8080/",
          "height": 148
        },
        "id": "RNctEkViZu6Q",
        "outputId": "2de752f0-f412-4cb6-8494-afe85d626a19"
      },
      "execution_count": 43,
      "outputs": [
        {
          "output_type": "error",
          "ename": "TypeError",
          "evalue": "car_specs() takes 3 positional arguments but 4 were given",
          "traceback": [
            "\u001b[0;31m---------------------------------------------------------------------------\u001b[0m",
            "\u001b[0;31mTypeError\u001b[0m                                 Traceback (most recent call last)",
            "\u001b[0;32m<ipython-input-43-382fcaf9f62b>\u001b[0m in \u001b[0;36m<cell line: 0>\u001b[0;34m()\u001b[0m\n\u001b[0;32m----> 1\u001b[0;31m \u001b[0mcar_specs\u001b[0m\u001b[0;34m(\u001b[0m\u001b[0;34m\"Blue\"\u001b[0m\u001b[0;34m,\u001b[0m\u001b[0;34m\"Maruthi\"\u001b[0m\u001b[0;34m,\u001b[0m\u001b[0;36m500\u001b[0m\u001b[0;34m,\u001b[0m\u001b[0;36m9\u001b[0m\u001b[0;34m)\u001b[0m\u001b[0;34m\u001b[0m\u001b[0;34m\u001b[0m\u001b[0m\n\u001b[0m",
            "\u001b[0;31mTypeError\u001b[0m: car_specs() takes 3 positional arguments but 4 were given"
          ]
        }
      ]
    },
    {
      "cell_type": "code",
      "source": [
        "#Quix\n",
        "def solve(a,b,c):\n",
        "  print(a)\n",
        "  print(b)\n",
        "  print(c)\n",
        "\n",
        "solve(1,5,2)"
      ],
      "metadata": {
        "colab": {
          "base_uri": "https://localhost:8080/"
        },
        "id": "7SnIWb9ZZ2cY",
        "outputId": "b77c93fc-5ad6-4d59-c9c5-907656f44fa9"
      },
      "execution_count": 44,
      "outputs": [
        {
          "output_type": "stream",
          "name": "stdout",
          "text": [
            "1\n",
            "5\n",
            "2\n"
          ]
        }
      ]
    },
    {
      "cell_type": "code",
      "source": [
        "solve(1,5)"
      ],
      "metadata": {
        "colab": {
          "base_uri": "https://localhost:8080/",
          "height": 148
        },
        "id": "PEjl7IfcaIIb",
        "outputId": "e6c9c1ac-370a-4eca-94cd-4cf72e5a27d5"
      },
      "execution_count": 45,
      "outputs": [
        {
          "output_type": "error",
          "ename": "TypeError",
          "evalue": "solve() missing 1 required positional argument: 'c'",
          "traceback": [
            "\u001b[0;31m---------------------------------------------------------------------------\u001b[0m",
            "\u001b[0;31mTypeError\u001b[0m                                 Traceback (most recent call last)",
            "\u001b[0;32m<ipython-input-45-367d3e0c1c26>\u001b[0m in \u001b[0;36m<cell line: 0>\u001b[0;34m()\u001b[0m\n\u001b[0;32m----> 1\u001b[0;31m \u001b[0msolve\u001b[0m\u001b[0;34m(\u001b[0m\u001b[0;36m1\u001b[0m\u001b[0;34m,\u001b[0m\u001b[0;36m5\u001b[0m\u001b[0;34m)\u001b[0m\u001b[0;34m\u001b[0m\u001b[0;34m\u001b[0m\u001b[0m\n\u001b[0m",
            "\u001b[0;31mTypeError\u001b[0m: solve() missing 1 required positional argument: 'c'"
          ]
        }
      ]
    },
    {
      "cell_type": "code",
      "source": [
        "solve(1,5,2,8)"
      ],
      "metadata": {
        "colab": {
          "base_uri": "https://localhost:8080/",
          "height": 148
        },
        "id": "0aBz0hcyaLGZ",
        "outputId": "21bf5cbe-dce7-47ef-c728-8eea5767ea8a"
      },
      "execution_count": 46,
      "outputs": [
        {
          "output_type": "error",
          "ename": "TypeError",
          "evalue": "solve() takes 3 positional arguments but 4 were given",
          "traceback": [
            "\u001b[0;31m---------------------------------------------------------------------------\u001b[0m",
            "\u001b[0;31mTypeError\u001b[0m                                 Traceback (most recent call last)",
            "\u001b[0;32m<ipython-input-46-0026e2914df3>\u001b[0m in \u001b[0;36m<cell line: 0>\u001b[0;34m()\u001b[0m\n\u001b[0;32m----> 1\u001b[0;31m \u001b[0msolve\u001b[0m\u001b[0;34m(\u001b[0m\u001b[0;36m1\u001b[0m\u001b[0;34m,\u001b[0m\u001b[0;36m5\u001b[0m\u001b[0;34m,\u001b[0m\u001b[0;36m2\u001b[0m\u001b[0;34m,\u001b[0m\u001b[0;36m8\u001b[0m\u001b[0;34m)\u001b[0m\u001b[0;34m\u001b[0m\u001b[0;34m\u001b[0m\u001b[0m\n\u001b[0m",
            "\u001b[0;31mTypeError\u001b[0m: solve() takes 3 positional arguments but 4 were given"
          ]
        }
      ]
    },
    {
      "cell_type": "code",
      "source": [
        "#Quiz: What will be the output of the following code?\n",
        "\n",
        "def factorial(n):\n",
        "  result = 1\n",
        "  while n>0:\n",
        "    result *=n\n",
        "    n -=1\n",
        "\n",
        "  print(result)\n",
        "\n",
        "factorial(5)\n",
        "\n",
        "'''\n",
        "Options:\n",
        "A: 40\n",
        "B: 24\n",
        "C: 120\n",
        "D: 100\n",
        "'''"
      ],
      "metadata": {
        "colab": {
          "base_uri": "https://localhost:8080/",
          "height": 55
        },
        "id": "UI3E4yftaRg3",
        "outputId": "44fbf075-5e52-4288-fa0d-ba3965f3ac6d"
      },
      "execution_count": 47,
      "outputs": [
        {
          "output_type": "stream",
          "name": "stdout",
          "text": [
            "120\n"
          ]
        },
        {
          "output_type": "execute_result",
          "data": {
            "text/plain": [
              "'\\nOptions:\\nA: 40\\nB: 24\\nC: 120\\nD: 100\\n'"
            ],
            "application/vnd.google.colaboratory.intrinsic+json": {
              "type": "string"
            }
          },
          "metadata": {},
          "execution_count": 47
        }
      ]
    },
    {
      "cell_type": "code",
      "source": [
        "#Quiz: What will be the output of the following code?\n",
        "\n",
        "def factorial(n):\n",
        "  result = 1\n",
        "  while n>0:\n",
        "    result *=n\n",
        "    n -=1\n",
        "\n",
        "  #print(result)\n",
        "\n",
        "print(factorial(5))"
      ],
      "metadata": {
        "colab": {
          "base_uri": "https://localhost:8080/"
        },
        "id": "Gv9XdPIXaxa9",
        "outputId": "f6908ae7-54a2-49d9-e3a0-00168dacc1aa"
      },
      "execution_count": 49,
      "outputs": [
        {
          "output_type": "stream",
          "name": "stdout",
          "text": [
            "None\n"
          ]
        }
      ]
    },
    {
      "cell_type": "markdown",
      "source": [
        "###Retun vs Print"
      ],
      "metadata": {
        "id": "0MoSB4bLbW3c"
      }
    },
    {
      "cell_type": "code",
      "source": [
        "'''\n",
        "print: show/display the value\n",
        "-> Value is displayed whenever print is called\n",
        "\n",
        "\n",
        "return: actually returns the value\n",
        "-> value can be stored in a variable to be used further\n",
        "'''"
      ],
      "metadata": {
        "colab": {
          "base_uri": "https://localhost:8080/",
          "height": 55
        },
        "id": "jm8A8VlYbVlN",
        "outputId": "35cbea19-b388-4619-de3c-677985393a52"
      },
      "execution_count": 51,
      "outputs": [
        {
          "output_type": "execute_result",
          "data": {
            "text/plain": [
              "'\\nprint: show/display the value\\n-> Value is displayed whenever print is called\\n\\n\\nreturn: actually returns the value\\n-> value can be stored in a variable to be used further\\n'"
            ],
            "application/vnd.google.colaboratory.intrinsic+json": {
              "type": "string"
            }
          },
          "metadata": {},
          "execution_count": 51
        }
      ]
    },
    {
      "cell_type": "code",
      "source": [
        "#Example 1\n",
        "def accept_money(amount):\n",
        "  print(2*amount)"
      ],
      "metadata": {
        "id": "CfdE90y5boH5"
      },
      "execution_count": 52,
      "outputs": []
    },
    {
      "cell_type": "code",
      "source": [
        "accept_money(100)"
      ],
      "metadata": {
        "colab": {
          "base_uri": "https://localhost:8080/"
        },
        "id": "iofPQ3oRb29a",
        "outputId": "ac78279f-2226-4417-faac-e4c4708df484"
      },
      "execution_count": 53,
      "outputs": [
        {
          "output_type": "stream",
          "name": "stdout",
          "text": [
            "200\n"
          ]
        }
      ]
    },
    {
      "cell_type": "code",
      "source": [
        "wallet = accept_money(100) #does wallet saved the 200 for future use?"
      ],
      "metadata": {
        "colab": {
          "base_uri": "https://localhost:8080/"
        },
        "id": "xFfZB4QUb43X",
        "outputId": "32660c03-2996-42e1-b1aa-126993b6e4da"
      },
      "execution_count": 54,
      "outputs": [
        {
          "output_type": "stream",
          "name": "stdout",
          "text": [
            "200\n"
          ]
        }
      ]
    },
    {
      "cell_type": "code",
      "source": [
        "print(wallet)"
      ],
      "metadata": {
        "colab": {
          "base_uri": "https://localhost:8080/"
        },
        "id": "vt8QrDHCb-ei",
        "outputId": "f6951db4-2c70-4be9-d02d-cff051607e78"
      },
      "execution_count": 55,
      "outputs": [
        {
          "output_type": "stream",
          "name": "stdout",
          "text": [
            "None\n"
          ]
        }
      ]
    },
    {
      "cell_type": "code",
      "source": [
        "#Example 2\n",
        "def accept_money(amount):\n",
        "  return (2*amount)"
      ],
      "metadata": {
        "id": "UTY8-0DIcAnQ"
      },
      "execution_count": 56,
      "outputs": []
    },
    {
      "cell_type": "code",
      "source": [
        "wallet = accept_money(100) #does wallet saved the 200 for future use?"
      ],
      "metadata": {
        "id": "FT2iD6KLccH-"
      },
      "execution_count": 57,
      "outputs": []
    },
    {
      "cell_type": "code",
      "source": [
        "print(wallet)"
      ],
      "metadata": {
        "colab": {
          "base_uri": "https://localhost:8080/"
        },
        "id": "QgfxbZlkcffI",
        "outputId": "bcf9621d-94ba-433e-fb09-9361c6def9ba"
      },
      "execution_count": 58,
      "outputs": [
        {
          "output_type": "stream",
          "name": "stdout",
          "text": [
            "200\n"
          ]
        }
      ]
    },
    {
      "cell_type": "code",
      "source": [
        "#remember:\n",
        "'''\n",
        "return\n",
        "--> returns back the value to where it was called from\n",
        "--> it ends/terminates the function at that line\n",
        "'''"
      ],
      "metadata": {
        "colab": {
          "base_uri": "https://localhost:8080/",
          "height": 36
        },
        "id": "DJQh1tZ3ciDQ",
        "outputId": "bfb4cfe9-fa7e-490a-f225-f9d71fe2848f"
      },
      "execution_count": 60,
      "outputs": [
        {
          "output_type": "execute_result",
          "data": {
            "text/plain": [
              "'\\nreturn \\n--> returns back the value to where it was called from\\n--> it ends/terminates the function at that line\\n'"
            ],
            "application/vnd.google.colaboratory.intrinsic+json": {
              "type": "string"
            }
          },
          "metadata": {},
          "execution_count": 60
        }
      ]
    },
    {
      "cell_type": "code",
      "source": [
        "#Quiz: What will be the value of b after the code is completed\n",
        "\n",
        "def solve(a):\n",
        "  print(2*a)\n",
        "  return 1\n",
        "\n",
        "b = solve(5)\n",
        "\n",
        "print(\"b is\",b)"
      ],
      "metadata": {
        "colab": {
          "base_uri": "https://localhost:8080/"
        },
        "id": "sFgOJvJNcxzi",
        "outputId": "a044355c-166c-4188-93fb-37285c7d6d74"
      },
      "execution_count": 61,
      "outputs": [
        {
          "output_type": "stream",
          "name": "stdout",
          "text": [
            "10\n",
            "b is 1\n"
          ]
        }
      ]
    },
    {
      "cell_type": "code",
      "source": [
        "def sample():\n",
        "  print(\"Hi Kavin\")\n",
        "  return 1\n",
        "  print(\"Are you hungry\")\n",
        "  print(\"Bye Kavin\")"
      ],
      "metadata": {
        "id": "y8UweaNddJJv"
      },
      "execution_count": 62,
      "outputs": []
    },
    {
      "cell_type": "code",
      "source": [
        "ans = sample() #After return statements are ignored and prm terminated at the retun"
      ],
      "metadata": {
        "colab": {
          "base_uri": "https://localhost:8080/"
        },
        "id": "1MTeSzmqdj98",
        "outputId": "ed959e79-eafd-4ac6-a87f-b376de1ca7fc"
      },
      "execution_count": 65,
      "outputs": [
        {
          "output_type": "stream",
          "name": "stdout",
          "text": [
            "Hi Kavin\n"
          ]
        }
      ]
    },
    {
      "cell_type": "code",
      "source": [
        "print(ans)"
      ],
      "metadata": {
        "colab": {
          "base_uri": "https://localhost:8080/"
        },
        "id": "BANH2SiAdnUS",
        "outputId": "a0ae7ba5-e647-448d-9cae-57611d6ba156"
      },
      "execution_count": 66,
      "outputs": [
        {
          "output_type": "stream",
          "name": "stdout",
          "text": [
            "1\n"
          ]
        }
      ]
    },
    {
      "cell_type": "markdown",
      "source": [
        "####Buidin functions"
      ],
      "metadata": {
        "id": "9oQnKfGZeRGw"
      }
    },
    {
      "cell_type": "code",
      "source": [
        "print(\"kavin\")"
      ],
      "metadata": {
        "colab": {
          "base_uri": "https://localhost:8080/"
        },
        "id": "u1iRT1rCeCnY",
        "outputId": "98fc1fa4-e386-4930-fd46-6ef019c0bcdc"
      },
      "execution_count": 69,
      "outputs": [
        {
          "output_type": "stream",
          "name": "stdout",
          "text": [
            "kavin\n"
          ]
        }
      ]
    },
    {
      "cell_type": "code",
      "source": [
        "type(1)"
      ],
      "metadata": {
        "colab": {
          "base_uri": "https://localhost:8080/"
        },
        "id": "SkEdCevBeFh-",
        "outputId": "a130b34c-a181-40cb-8ad9-09923cac29ad"
      },
      "execution_count": 70,
      "outputs": [
        {
          "output_type": "execute_result",
          "data": {
            "text/plain": [
              "int"
            ]
          },
          "metadata": {},
          "execution_count": 70
        }
      ]
    },
    {
      "cell_type": "code",
      "source": [
        "a = max(4,7,9,10)\n",
        "print(a)"
      ],
      "metadata": {
        "colab": {
          "base_uri": "https://localhost:8080/"
        },
        "id": "zg02-7DQeJDQ",
        "outputId": "e69690b3-d572-49b9-beb0-ad4d6116cff1"
      },
      "execution_count": 71,
      "outputs": [
        {
          "output_type": "stream",
          "name": "stdout",
          "text": [
            "10\n"
          ]
        }
      ]
    },
    {
      "cell_type": "code",
      "source": [
        "###Doc strings"
      ],
      "metadata": {
        "id": "_mIqa87VeN9A"
      },
      "execution_count": 72,
      "outputs": []
    },
    {
      "cell_type": "code",
      "source": [
        "def add_values(a,b):\n",
        "  res = a+b\n",
        "  print(res)"
      ],
      "metadata": {
        "id": "8nW-r5puecix"
      },
      "execution_count": 73,
      "outputs": []
    },
    {
      "cell_type": "code",
      "source": [
        "add_values(4,8) #Integer addition"
      ],
      "metadata": {
        "colab": {
          "base_uri": "https://localhost:8080/"
        },
        "id": "tRHIzvurenKy",
        "outputId": "e66c3983-ea24-404d-f29a-dbf73045523d"
      },
      "execution_count": 74,
      "outputs": [
        {
          "output_type": "stream",
          "name": "stdout",
          "text": [
            "12\n"
          ]
        }
      ]
    },
    {
      "cell_type": "code",
      "source": [
        "add_values(\"x\",\"Y\") #String Concatination"
      ],
      "metadata": {
        "colab": {
          "base_uri": "https://localhost:8080/"
        },
        "id": "S4Lp73j_epbs",
        "outputId": "66bd22d1-1a32-49c4-80a6-816715741aae"
      },
      "execution_count": 76,
      "outputs": [
        {
          "output_type": "stream",
          "name": "stdout",
          "text": [
            "xY\n"
          ]
        }
      ]
    },
    {
      "cell_type": "code",
      "source": [
        "add_values(\"a\",4)"
      ],
      "metadata": {
        "colab": {
          "base_uri": "https://localhost:8080/",
          "height": 240
        },
        "id": "sHzA20wBeuOv",
        "outputId": "45e42152-adfa-47bd-feda-c991c3a4b1b7"
      },
      "execution_count": 77,
      "outputs": [
        {
          "output_type": "error",
          "ename": "TypeError",
          "evalue": "can only concatenate str (not \"int\") to str",
          "traceback": [
            "\u001b[0;31m---------------------------------------------------------------------------\u001b[0m",
            "\u001b[0;31mTypeError\u001b[0m                                 Traceback (most recent call last)",
            "\u001b[0;32m<ipython-input-77-f1930458a459>\u001b[0m in \u001b[0;36m<cell line: 0>\u001b[0;34m()\u001b[0m\n\u001b[0;32m----> 1\u001b[0;31m \u001b[0madd_values\u001b[0m\u001b[0;34m(\u001b[0m\u001b[0;34m\"a\"\u001b[0m\u001b[0;34m,\u001b[0m\u001b[0;36m4\u001b[0m\u001b[0;34m)\u001b[0m\u001b[0;34m\u001b[0m\u001b[0;34m\u001b[0m\u001b[0m\n\u001b[0m",
            "\u001b[0;32m<ipython-input-73-28cb315a382a>\u001b[0m in \u001b[0;36madd_values\u001b[0;34m(a, b)\u001b[0m\n\u001b[1;32m      1\u001b[0m \u001b[0;32mdef\u001b[0m \u001b[0madd_values\u001b[0m\u001b[0;34m(\u001b[0m\u001b[0ma\u001b[0m\u001b[0;34m,\u001b[0m\u001b[0mb\u001b[0m\u001b[0;34m)\u001b[0m\u001b[0;34m:\u001b[0m\u001b[0;34m\u001b[0m\u001b[0;34m\u001b[0m\u001b[0m\n\u001b[0;32m----> 2\u001b[0;31m   \u001b[0mres\u001b[0m \u001b[0;34m=\u001b[0m \u001b[0ma\u001b[0m\u001b[0;34m+\u001b[0m\u001b[0mb\u001b[0m\u001b[0;34m\u001b[0m\u001b[0;34m\u001b[0m\u001b[0m\n\u001b[0m\u001b[1;32m      3\u001b[0m   \u001b[0mprint\u001b[0m\u001b[0;34m(\u001b[0m\u001b[0mres\u001b[0m\u001b[0;34m)\u001b[0m\u001b[0;34m\u001b[0m\u001b[0;34m\u001b[0m\u001b[0m\n",
            "\u001b[0;31mTypeError\u001b[0m: can only concatenate str (not \"int\") to str"
          ]
        }
      ]
    },
    {
      "cell_type": "code",
      "source": [
        "add_values(4,\"a\")"
      ],
      "metadata": {
        "colab": {
          "base_uri": "https://localhost:8080/",
          "height": 240
        },
        "id": "zNC5qqcfe4fz",
        "outputId": "eed7c751-80af-46ce-e78e-d1cca5d913cc"
      },
      "execution_count": 78,
      "outputs": [
        {
          "output_type": "error",
          "ename": "TypeError",
          "evalue": "unsupported operand type(s) for +: 'int' and 'str'",
          "traceback": [
            "\u001b[0;31m---------------------------------------------------------------------------\u001b[0m",
            "\u001b[0;31mTypeError\u001b[0m                                 Traceback (most recent call last)",
            "\u001b[0;32m<ipython-input-78-1885f52fe1a5>\u001b[0m in \u001b[0;36m<cell line: 0>\u001b[0;34m()\u001b[0m\n\u001b[0;32m----> 1\u001b[0;31m \u001b[0madd_values\u001b[0m\u001b[0;34m(\u001b[0m\u001b[0;36m4\u001b[0m\u001b[0;34m,\u001b[0m\u001b[0;34m\"a\"\u001b[0m\u001b[0;34m)\u001b[0m\u001b[0;34m\u001b[0m\u001b[0;34m\u001b[0m\u001b[0m\n\u001b[0m",
            "\u001b[0;32m<ipython-input-73-28cb315a382a>\u001b[0m in \u001b[0;36madd_values\u001b[0;34m(a, b)\u001b[0m\n\u001b[1;32m      1\u001b[0m \u001b[0;32mdef\u001b[0m \u001b[0madd_values\u001b[0m\u001b[0;34m(\u001b[0m\u001b[0ma\u001b[0m\u001b[0;34m,\u001b[0m\u001b[0mb\u001b[0m\u001b[0;34m)\u001b[0m\u001b[0;34m:\u001b[0m\u001b[0;34m\u001b[0m\u001b[0;34m\u001b[0m\u001b[0m\n\u001b[0;32m----> 2\u001b[0;31m   \u001b[0mres\u001b[0m \u001b[0;34m=\u001b[0m \u001b[0ma\u001b[0m\u001b[0;34m+\u001b[0m\u001b[0mb\u001b[0m\u001b[0;34m\u001b[0m\u001b[0;34m\u001b[0m\u001b[0m\n\u001b[0m\u001b[1;32m      3\u001b[0m   \u001b[0mprint\u001b[0m\u001b[0;34m(\u001b[0m\u001b[0mres\u001b[0m\u001b[0;34m)\u001b[0m\u001b[0;34m\u001b[0m\u001b[0;34m\u001b[0m\u001b[0m\n",
            "\u001b[0;31mTypeError\u001b[0m: unsupported operand type(s) for +: 'int' and 'str'"
          ]
        }
      ]
    },
    {
      "cell_type": "code",
      "source": [
        "# Best practice : add the docstring to the fucntion will helps to understand the function and expected behaviour\n",
        "\n",
        "def add_values(a,b):\n",
        "  '''\n",
        "  Arguments:\n",
        "  a: int or str\n",
        "  b: int or str\n",
        "\n",
        "  Note: please do not enter diff data types in one function call. Either call it with both strings, or with both int\n",
        "\n",
        "  output:\n",
        "  str + str --> concatenation\n",
        "  int + int --> addition\n",
        "  '''\n",
        "  res = a+b\n",
        "  print(res)"
      ],
      "metadata": {
        "id": "GLYXYHH_e-Hl"
      },
      "execution_count": 81,
      "outputs": []
    },
    {
      "cell_type": "code",
      "source": [
        "add_values(4,8) #Integer addition"
      ],
      "metadata": {
        "colab": {
          "base_uri": "https://localhost:8080/"
        },
        "id": "d3hs4X_qfdZq",
        "outputId": "8646a113-223f-486d-d9c9-d755e6821518"
      },
      "execution_count": 82,
      "outputs": [
        {
          "output_type": "stream",
          "name": "stdout",
          "text": [
            "12\n"
          ]
        }
      ]
    },
    {
      "cell_type": "code",
      "source": [
        "help(add_values) #Using help(func_name)"
      ],
      "metadata": {
        "colab": {
          "base_uri": "https://localhost:8080/"
        },
        "id": "lg6brVrjftqb",
        "outputId": "a8087001-8116-4ea7-afab-21e37fb24907"
      },
      "execution_count": 83,
      "outputs": [
        {
          "output_type": "stream",
          "name": "stdout",
          "text": [
            "Help on function add_values in module __main__:\n",
            "\n",
            "add_values(a, b)\n",
            "    Arguments:\n",
            "    a: int or str\n",
            "    b: int or str\n",
            "    \n",
            "    Note: please do not enter diff data types in one function call. Either call it with both strings, or with both int\n",
            "    \n",
            "    output:\n",
            "    str + str --> concatenation\n",
            "    int + int --> addition\n",
            "\n"
          ]
        }
      ]
    },
    {
      "cell_type": "code",
      "source": [
        "print(add_values.__doc__) #Using __doc__\n"
      ],
      "metadata": {
        "colab": {
          "base_uri": "https://localhost:8080/"
        },
        "id": "lq6vU4fjfxHu",
        "outputId": "08bcb44b-1d9a-4114-ccaf-7d9e23b64e14"
      },
      "execution_count": 84,
      "outputs": [
        {
          "output_type": "stream",
          "name": "stdout",
          "text": [
            "\n",
            "  Arguments:\n",
            "  a: int or str\n",
            "  b: int or str\n",
            "\n",
            "  Note: please do not enter diff data types in one function call. Either call it with both strings, or with both int\n",
            "\n",
            "  output:\n",
            "  str + str --> concatenation\n",
            "  int + int --> addition\n",
            "  \n"
          ]
        }
      ]
    },
    {
      "cell_type": "code",
      "source": [
        "#Quiz\n",
        "\n",
        "def do_something(n):\n",
        "  total = 0\n",
        "  i = 1\n",
        "  while i <= n:\n",
        "    total += i\n",
        "    i += 1\n",
        "\n",
        "  return total\n",
        "\n",
        "print(do_something(5))"
      ],
      "metadata": {
        "colab": {
          "base_uri": "https://localhost:8080/"
        },
        "id": "MQLLM1bJgM-L",
        "outputId": "d633fc8f-fbd5-4a24-b977-ab455652693c"
      },
      "execution_count": 85,
      "outputs": [
        {
          "output_type": "stream",
          "name": "stdout",
          "text": [
            "15\n"
          ]
        }
      ]
    },
    {
      "cell_type": "code",
      "source": [
        "\n",
        "print(do_something(10)) ##==> expected 55"
      ],
      "metadata": {
        "colab": {
          "base_uri": "https://localhost:8080/"
        },
        "id": "VCLlXX_ggo6A",
        "outputId": "43145bc6-f933-4598-d2ce-1af552c9d037"
      },
      "execution_count": 87,
      "outputs": [
        {
          "output_type": "stream",
          "name": "stdout",
          "text": [
            "55\n"
          ]
        }
      ]
    },
    {
      "cell_type": "code",
      "source": [],
      "metadata": {
        "id": "wwdbEYgBgvNs"
      },
      "execution_count": null,
      "outputs": []
    }
  ]
}