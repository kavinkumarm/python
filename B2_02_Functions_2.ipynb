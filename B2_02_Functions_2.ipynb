{
  "cells": [
    {
      "cell_type": "markdown",
      "metadata": {
        "id": "view-in-github",
        "colab_type": "text"
      },
      "source": [
        "<a href=\"https://colab.research.google.com/github/kavinkumarm/python/blob/main/B2_02_Functions_2.ipynb\" target=\"_parent\"><img src=\"https://colab.research.google.com/assets/colab-badge.svg\" alt=\"Open In Colab\"/></a>"
      ]
    },
    {
      "cell_type": "markdown",
      "metadata": {
        "id": "nt1PEyi5igWB"
      },
      "source": [
        "**Overview of positional Arguments**"
      ]
    },
    {
      "cell_type": "code",
      "execution_count": 1,
      "metadata": {
        "id": "ht3Wu423h6fm"
      },
      "outputs": [],
      "source": [
        "def car_specs(color,brand,price):\n",
        "  print(\"Color:\",color)\n",
        "  print(\"Brand:\",brand)\n",
        "  print(\"Price:\",price)"
      ]
    },
    {
      "cell_type": "code",
      "execution_count": 2,
      "metadata": {
        "colab": {
          "base_uri": "https://localhost:8080/"
        },
        "id": "WKJwO4NdkmwG",
        "outputId": "af713f5d-14ea-4e82-c312-7cc976769485"
      },
      "outputs": [
        {
          "output_type": "stream",
          "name": "stdout",
          "text": [
            "Color: Red\n",
            "Brand: BMW\n",
            "Price: 1000000\n"
          ]
        }
      ],
      "source": [
        "car_specs(\"Red\",\"BMW\",1000000) #Positinal Argument --> Ordering is important\n",
        "# Red is mapped to color\n",
        "# BMW is mapped to brand\n",
        "# 1000000 is mapped to price"
      ]
    },
    {
      "cell_type": "code",
      "execution_count": 4,
      "metadata": {
        "colab": {
          "base_uri": "https://localhost:8080/"
        },
        "id": "Apw0Cueekz15",
        "outputId": "5d7fed04-954b-4e94-b2dd-4264c8883082"
      },
      "outputs": [
        {
          "output_type": "stream",
          "name": "stdout",
          "text": [
            "Color: Red\n",
            "Brand: 1000000\n",
            "Price: BMW\n"
          ]
        }
      ],
      "source": [
        "car_specs(\"Red\",1000000,\"BMW\") #Oder changed but not able to predicted by function"
      ]
    },
    {
      "cell_type": "code",
      "execution_count": 5,
      "metadata": {
        "colab": {
          "base_uri": "https://localhost:8080/",
          "height": 148
        },
        "id": "_nTBBDl3k_Qd",
        "outputId": "29a4d1ab-04e2-49bd-ba50-4e2dc459297a"
      },
      "outputs": [
        {
          "output_type": "error",
          "ename": "TypeError",
          "evalue": "car_specs() missing 1 required positional argument: 'price'",
          "traceback": [
            "\u001b[0;31m---------------------------------------------------------------------------\u001b[0m",
            "\u001b[0;31mTypeError\u001b[0m                                 Traceback (most recent call last)",
            "\u001b[0;32m<ipython-input-5-09ad7f0b74ca>\u001b[0m in \u001b[0;36m<cell line: 0>\u001b[0;34m()\u001b[0m\n\u001b[0;32m----> 1\u001b[0;31m \u001b[0mcar_specs\u001b[0m\u001b[0;34m(\u001b[0m\u001b[0;34m\"Red\"\u001b[0m\u001b[0;34m,\u001b[0m\u001b[0;34m\"BMW\"\u001b[0m\u001b[0;34m)\u001b[0m \u001b[0;31m#One argument is missing\u001b[0m\u001b[0;34m\u001b[0m\u001b[0;34m\u001b[0m\u001b[0m\n\u001b[0m",
            "\u001b[0;31mTypeError\u001b[0m: car_specs() missing 1 required positional argument: 'price'"
          ]
        }
      ],
      "source": [
        "car_specs(\"Red\",\"BMW\") #One argument is missing"
      ]
    },
    {
      "cell_type": "code",
      "execution_count": 6,
      "metadata": {
        "colab": {
          "base_uri": "https://localhost:8080/",
          "height": 148
        },
        "id": "FIL8EhYMlJLn",
        "outputId": "5b40c0a1-b4bb-4ae1-f9e0-662aa779d1de"
      },
      "outputs": [
        {
          "output_type": "error",
          "ename": "TypeError",
          "evalue": "car_specs() takes 3 positional arguments but 4 were given",
          "traceback": [
            "\u001b[0;31m---------------------------------------------------------------------------\u001b[0m",
            "\u001b[0;31mTypeError\u001b[0m                                 Traceback (most recent call last)",
            "\u001b[0;32m<ipython-input-6-d9d68e1be046>\u001b[0m in \u001b[0;36m<cell line: 0>\u001b[0;34m()\u001b[0m\n\u001b[0;32m----> 1\u001b[0;31m \u001b[0mcar_specs\u001b[0m\u001b[0;34m(\u001b[0m\u001b[0;34m\"Red\"\u001b[0m\u001b[0;34m,\u001b[0m\u001b[0;34m\"BMW\"\u001b[0m\u001b[0;34m,\u001b[0m\u001b[0;36m1000000\u001b[0m\u001b[0;34m,\u001b[0m\u001b[0;36m1\u001b[0m\u001b[0;34m)\u001b[0m \u001b[0;31m#One argument is extra\u001b[0m\u001b[0;34m\u001b[0m\u001b[0;34m\u001b[0m\u001b[0m\n\u001b[0m",
            "\u001b[0;31mTypeError\u001b[0m: car_specs() takes 3 positional arguments but 4 were given"
          ]
        }
      ],
      "source": [
        "car_specs(\"Red\",\"BMW\",1000000,1) #One argument is extra"
      ]
    },
    {
      "cell_type": "markdown",
      "metadata": {
        "id": "nlXjWdQVlSs7"
      },
      "source": [
        "**Key-worded Argument**"
      ]
    },
    {
      "cell_type": "markdown",
      "metadata": {
        "id": "VLpBB25olaZW"
      },
      "source": [
        "Key-worded argument solved the problem of ordering"
      ]
    },
    {
      "cell_type": "code",
      "execution_count": 7,
      "metadata": {
        "id": "BRU2NofklQhe"
      },
      "outputs": [],
      "source": [
        "def car_specs(color,brand,price):\n",
        "  print(\"Color:\",color)\n",
        "  print(\"Brand:\",brand)\n",
        "  print(\"Price:\",price)"
      ]
    },
    {
      "cell_type": "markdown",
      "metadata": {
        "id": "lWBl9j9xmVRc"
      },
      "source": [
        "Rule 1 : Parameter name must match with function calling argument names"
      ]
    },
    {
      "cell_type": "code",
      "execution_count": 8,
      "metadata": {
        "colab": {
          "base_uri": "https://localhost:8080/"
        },
        "id": "CCjC5_ZHmd_Q",
        "outputId": "23240ac0-21bd-4b9d-86b9-5b17fd19646b"
      },
      "outputs": [
        {
          "output_type": "stream",
          "name": "stdout",
          "text": [
            "Color: Red\n",
            "Brand: BMW\n",
            "Price: 1000000\n"
          ]
        }
      ],
      "source": [
        "car_specs(color=\"Red\",brand=\"BMW\",price=1000000)"
      ]
    },
    {
      "cell_type": "markdown",
      "metadata": {
        "id": "eZ57nhQUm23Y"
      },
      "source": [
        "Rule 2 : passing the in the same order is not madatory"
      ]
    },
    {
      "cell_type": "code",
      "execution_count": 9,
      "metadata": {
        "colab": {
          "base_uri": "https://localhost:8080/"
        },
        "id": "3Ng7fNrhmwS4",
        "outputId": "823db61f-3d75-4eab-b46a-de9d89d59f0f"
      },
      "outputs": [
        {
          "output_type": "stream",
          "name": "stdout",
          "text": [
            "Color: Red\n",
            "Brand: BMW\n",
            "Price: 1000000\n"
          ]
        }
      ],
      "source": [
        "car_specs(color=\"Red\",price=1000000,brand=\"BMW\")"
      ]
    },
    {
      "cell_type": "markdown",
      "metadata": {
        "id": "xZEURW9YnBAi"
      },
      "source": [
        "Advantage = Practically its not possible to remember the order of the arguments.\n",
        "\n",
        "In numpy and pandas it has good advantages"
      ]
    },
    {
      "cell_type": "code",
      "execution_count": 10,
      "metadata": {
        "colab": {
          "base_uri": "https://localhost:8080/",
          "height": 111
        },
        "id": "60qeQoKvm_v2",
        "outputId": "b43c20f6-ef3c-4517-87fd-8dc57108cbf7"
      },
      "outputs": [
        {
          "output_type": "error",
          "ename": "SyntaxError",
          "evalue": "invalid syntax (<ipython-input-10-30f38bdde48c>, line 2)",
          "traceback": [
            "\u001b[0;36m  File \u001b[0;32m\"<ipython-input-10-30f38bdde48c>\"\u001b[0;36m, line \u001b[0;32m2\u001b[0m\n\u001b[0;31m    function random():\u001b[0m\n\u001b[0m             ^\u001b[0m\n\u001b[0;31mSyntaxError\u001b[0m\u001b[0;31m:\u001b[0m invalid syntax\n"
          ]
        }
      ],
      "source": [
        "#Quiz1\n",
        "function random():\n",
        "    return True\n",
        "random()"
      ]
    },
    {
      "cell_type": "code",
      "execution_count": 11,
      "metadata": {
        "colab": {
          "base_uri": "https://localhost:8080/"
        },
        "id": "aNAGQZTio8MI",
        "outputId": "f9f4299f-54fc-41c4-8f4c-fcd121d437ef"
      },
      "outputs": [
        {
          "output_type": "execute_result",
          "data": {
            "text/plain": [
              "True"
            ]
          },
          "metadata": {},
          "execution_count": 11
        }
      ],
      "source": [
        "#Quiz1\n",
        "def random():\n",
        "    return True\n",
        "random()"
      ]
    },
    {
      "cell_type": "code",
      "execution_count": 12,
      "metadata": {
        "colab": {
          "base_uri": "https://localhost:8080/",
          "height": 111
        },
        "id": "XWtBO2gApMYU",
        "outputId": "c9c4fdfc-3c6b-4045-c043-b5040c484d31"
      },
      "outputs": [
        {
          "output_type": "error",
          "ename": "SyntaxError",
          "evalue": "expected '(' (<ipython-input-12-9838d27b0b51>, line 2)",
          "traceback": [
            "\u001b[0;36m  File \u001b[0;32m\"<ipython-input-12-9838d27b0b51>\"\u001b[0;36m, line \u001b[0;32m2\u001b[0m\n\u001b[0;31m    def abc:\u001b[0m\n\u001b[0m           ^\u001b[0m\n\u001b[0;31mSyntaxError\u001b[0m\u001b[0;31m:\u001b[0m expected '('\n"
          ]
        }
      ],
      "source": [
        "#Quiz 2\n",
        "def abc:\n",
        "    return \"I am a function!\"\n",
        "abc()"
      ]
    },
    {
      "cell_type": "code",
      "execution_count": 13,
      "metadata": {
        "colab": {
          "base_uri": "https://localhost:8080/",
          "height": 36
        },
        "id": "G1SUb_e8pPox",
        "outputId": "bbea8bd5-305e-45ed-e6f0-7d30f13f40ad"
      },
      "outputs": [
        {
          "output_type": "execute_result",
          "data": {
            "text/plain": [
              "'I am a function!'"
            ],
            "application/vnd.google.colaboratory.intrinsic+json": {
              "type": "string"
            }
          },
          "metadata": {},
          "execution_count": 13
        }
      ],
      "source": [
        "def abc():\n",
        "    return \"I am a function!\"\n",
        "\n",
        "abc()"
      ]
    },
    {
      "cell_type": "code",
      "execution_count": 14,
      "metadata": {
        "id": "zKDTtdxfpUZP"
      },
      "outputs": [],
      "source": [
        "#Revision\n",
        "\n",
        "def solve(a, b, c, d):\n",
        "  print(\"a is\", a)\n",
        "  print(\"b is\", b)\n",
        "  print(\"c is\", c)\n",
        "  print(\"d is\", d)"
      ]
    },
    {
      "cell_type": "code",
      "execution_count": 15,
      "metadata": {
        "colab": {
          "base_uri": "https://localhost:8080/"
        },
        "id": "WJFi0csQpXt2",
        "outputId": "94f69c91-f082-495d-f7e3-0b0aecde816b"
      },
      "outputs": [
        {
          "output_type": "stream",
          "name": "stdout",
          "text": [
            "a is 1\n",
            "b is 4\n",
            "c is 3\n",
            "d is 6\n"
          ]
        }
      ],
      "source": [
        "solve(1,4,3,6)"
      ]
    },
    {
      "cell_type": "code",
      "execution_count": 16,
      "metadata": {
        "colab": {
          "base_uri": "https://localhost:8080/",
          "height": 148
        },
        "id": "d0lDONZSpb4r",
        "outputId": "db7ddafd-3ee5-498d-eca4-14d13b37390d"
      },
      "outputs": [
        {
          "output_type": "error",
          "ename": "TypeError",
          "evalue": "solve() takes 4 positional arguments but 5 were given",
          "traceback": [
            "\u001b[0;31m---------------------------------------------------------------------------\u001b[0m",
            "\u001b[0;31mTypeError\u001b[0m                                 Traceback (most recent call last)",
            "\u001b[0;32m<ipython-input-16-6b4fc3048a64>\u001b[0m in \u001b[0;36m<cell line: 0>\u001b[0;34m()\u001b[0m\n\u001b[0;32m----> 1\u001b[0;31m \u001b[0msolve\u001b[0m\u001b[0;34m(\u001b[0m\u001b[0;36m1\u001b[0m\u001b[0;34m,\u001b[0m\u001b[0;36m4\u001b[0m\u001b[0;34m,\u001b[0m\u001b[0;36m3\u001b[0m\u001b[0;34m,\u001b[0m\u001b[0;36m6\u001b[0m\u001b[0;34m,\u001b[0m\u001b[0;36m8\u001b[0m\u001b[0;34m)\u001b[0m\u001b[0;34m\u001b[0m\u001b[0;34m\u001b[0m\u001b[0m\n\u001b[0m",
            "\u001b[0;31mTypeError\u001b[0m: solve() takes 4 positional arguments but 5 were given"
          ]
        }
      ],
      "source": [
        "solve(1,4,3,6,8)"
      ]
    },
    {
      "cell_type": "code",
      "execution_count": 17,
      "metadata": {
        "colab": {
          "base_uri": "https://localhost:8080/",
          "height": 148
        },
        "id": "VgG6bEC7pfMP",
        "outputId": "c6fef8fb-9750-47a7-f798-6222524d2354"
      },
      "outputs": [
        {
          "output_type": "error",
          "ename": "TypeError",
          "evalue": "solve() missing 1 required positional argument: 'd'",
          "traceback": [
            "\u001b[0;31m---------------------------------------------------------------------------\u001b[0m",
            "\u001b[0;31mTypeError\u001b[0m                                 Traceback (most recent call last)",
            "\u001b[0;32m<ipython-input-17-2d5baa891cd3>\u001b[0m in \u001b[0;36m<cell line: 0>\u001b[0;34m()\u001b[0m\n\u001b[0;32m----> 1\u001b[0;31m \u001b[0msolve\u001b[0m\u001b[0;34m(\u001b[0m\u001b[0;36m1\u001b[0m\u001b[0;34m,\u001b[0m\u001b[0;36m3\u001b[0m\u001b[0;34m,\u001b[0m\u001b[0;36m4\u001b[0m\u001b[0;34m)\u001b[0m\u001b[0;34m\u001b[0m\u001b[0;34m\u001b[0m\u001b[0m\n\u001b[0m",
            "\u001b[0;31mTypeError\u001b[0m: solve() missing 1 required positional argument: 'd'"
          ]
        }
      ],
      "source": [
        "solve(1,3,4)"
      ]
    },
    {
      "cell_type": "code",
      "execution_count": 18,
      "metadata": {
        "id": "emhl8W-tptNq"
      },
      "outputs": [],
      "source": [
        "#Key worded argument\n",
        "def solve(a, b, c, d):\n",
        "  print(\"a is\", a)\n",
        "  print(\"b is\", b)\n",
        "  print(\"c is\", c)\n",
        "  print(\"d is\", d)"
      ]
    },
    {
      "cell_type": "code",
      "execution_count": 19,
      "metadata": {
        "colab": {
          "base_uri": "https://localhost:8080/"
        },
        "id": "IW_t6f69p1qr",
        "outputId": "da862532-bb1d-4316-e740-c3da00cc94a1"
      },
      "outputs": [
        {
          "output_type": "stream",
          "name": "stdout",
          "text": [
            "a is 1\n",
            "b is 4\n",
            "c is 3\n",
            "d is 6\n"
          ]
        }
      ],
      "source": [
        "solve(b=4,a=1,c=3,d=6)"
      ]
    },
    {
      "cell_type": "code",
      "execution_count": null,
      "metadata": {
        "id": "LD7S7AQup_ip"
      },
      "outputs": [],
      "source": [
        "#Edge cases of Keyworded arguments - Understand the errors"
      ]
    },
    {
      "cell_type": "code",
      "execution_count": 20,
      "metadata": {
        "colab": {
          "base_uri": "https://localhost:8080/",
          "height": 111
        },
        "id": "ETdWnD-mqEXN",
        "outputId": "4ad00701-cf29-4061-b599-c93c8eec4194"
      },
      "outputs": [
        {
          "output_type": "error",
          "ename": "SyntaxError",
          "evalue": "keyword argument repeated: a (<ipython-input-20-c2ab431ac6e6>, line 1)",
          "traceback": [
            "\u001b[0;36m  File \u001b[0;32m\"<ipython-input-20-c2ab431ac6e6>\"\u001b[0;36m, line \u001b[0;32m1\u001b[0m\n\u001b[0;31m    solve(b = 2, a = 1 , a = 5 , c =4)\u001b[0m\n\u001b[0m                         ^\u001b[0m\n\u001b[0;31mSyntaxError\u001b[0m\u001b[0;31m:\u001b[0m keyword argument repeated: a\n"
          ]
        }
      ],
      "source": [
        "solve(b = 2, a = 1 , a = 5 , c =4)"
      ]
    },
    {
      "cell_type": "code",
      "execution_count": 21,
      "metadata": {
        "colab": {
          "base_uri": "https://localhost:8080/",
          "height": 148
        },
        "id": "a93BciJUqQZx",
        "outputId": "f243b62a-9f74-44fb-ec0b-219ce619442c"
      },
      "outputs": [
        {
          "output_type": "error",
          "ename": "TypeError",
          "evalue": "solve() got an unexpected keyword argument 'aj'",
          "traceback": [
            "\u001b[0;31m---------------------------------------------------------------------------\u001b[0m",
            "\u001b[0;31mTypeError\u001b[0m                                 Traceback (most recent call last)",
            "\u001b[0;32m<ipython-input-21-bf1d663699b2>\u001b[0m in \u001b[0;36m<cell line: 0>\u001b[0;34m()\u001b[0m\n\u001b[0;32m----> 1\u001b[0;31m \u001b[0msolve\u001b[0m\u001b[0;34m(\u001b[0m\u001b[0mb\u001b[0m \u001b[0;34m=\u001b[0m \u001b[0;36m2\u001b[0m\u001b[0;34m,\u001b[0m \u001b[0maj\u001b[0m \u001b[0;34m=\u001b[0m \u001b[0;36m1\u001b[0m \u001b[0;34m,\u001b[0m \u001b[0ma\u001b[0m \u001b[0;34m=\u001b[0m \u001b[0;36m5\u001b[0m \u001b[0;34m,\u001b[0m \u001b[0mc\u001b[0m \u001b[0;34m=\u001b[0m\u001b[0;36m4\u001b[0m\u001b[0;34m)\u001b[0m\u001b[0;34m\u001b[0m\u001b[0;34m\u001b[0m\u001b[0m\n\u001b[0m",
            "\u001b[0;31mTypeError\u001b[0m: solve() got an unexpected keyword argument 'aj'"
          ]
        }
      ],
      "source": [
        "solve(b = 2, aj = 1 , a = 5 , c =4)"
      ]
    },
    {
      "cell_type": "markdown",
      "metadata": {
        "id": "C7j6if6FqdgG"
      },
      "source": [
        "Mixture - combination of arguments keyworded and positinal arguments"
      ]
    },
    {
      "cell_type": "code",
      "execution_count": 22,
      "metadata": {
        "id": "_fAV7gdFqUtK"
      },
      "outputs": [],
      "source": [
        "def solve(a, b, c, d):\n",
        "  print(\"a is\", a)\n",
        "  print(\"b is\", b)\n",
        "  print(\"c is\", c)\n",
        "  print(\"d is\", d)"
      ]
    },
    {
      "cell_type": "code",
      "execution_count": 23,
      "metadata": {
        "colab": {
          "base_uri": "https://localhost:8080/"
        },
        "id": "Z6jnYfF3qsUp",
        "outputId": "c651b308-b06b-4690-b1b2-87de014217ad"
      },
      "outputs": [
        {
          "output_type": "stream",
          "name": "stdout",
          "text": [
            "a is 1\n",
            "b is 2\n",
            "c is 3\n",
            "d is 5\n"
          ]
        }
      ],
      "source": [
        "solve(1,c=3,d=5,b=2)"
      ]
    },
    {
      "cell_type": "code",
      "execution_count": 24,
      "metadata": {
        "colab": {
          "base_uri": "https://localhost:8080/",
          "height": 111
        },
        "id": "PuX8BcqSqx2E",
        "outputId": "175106ea-e2b0-4668-c2d5-4dc9f6794d11"
      },
      "outputs": [
        {
          "output_type": "error",
          "ename": "SyntaxError",
          "evalue": "positional argument follows keyword argument (<ipython-input-24-4ddb16aa6de1>, line 1)",
          "traceback": [
            "\u001b[0;36m  File \u001b[0;32m\"<ipython-input-24-4ddb16aa6de1>\"\u001b[0;36m, line \u001b[0;32m1\u001b[0m\n\u001b[0;31m    solve(1,c=3,d=5,8)\u001b[0m\n\u001b[0m                     ^\u001b[0m\n\u001b[0;31mSyntaxError\u001b[0m\u001b[0;31m:\u001b[0m positional argument follows keyword argument\n"
          ]
        }
      ],
      "source": [
        "solve(1,c=3,d=5,8)"
      ]
    },
    {
      "cell_type": "markdown",
      "metadata": {
        "id": "N2qPR_bfq8iM"
      },
      "source": [
        "Rule : All the keyworded arguments should be after all the positinal arguments"
      ]
    },
    {
      "cell_type": "code",
      "execution_count": 25,
      "metadata": {
        "colab": {
          "base_uri": "https://localhost:8080/"
        },
        "id": "UYDs8XyIq2xd",
        "outputId": "667239fa-1ba9-4cc2-d848-8ec8661b7f3a"
      },
      "outputs": [
        {
          "output_type": "stream",
          "name": "stdout",
          "text": [
            "a is 1\n",
            "b is 2\n",
            "c is 2\n",
            "d is 5\n"
          ]
        }
      ],
      "source": [
        "solve(1,2,d=5,c=2)"
      ]
    },
    {
      "cell_type": "code",
      "execution_count": 27,
      "metadata": {
        "colab": {
          "base_uri": "https://localhost:8080/"
        },
        "id": "2XpkZphrrPTr",
        "outputId": "48de7d6b-9461-420e-e0e7-69a501cfcd29"
      },
      "outputs": [
        {
          "output_type": "stream",
          "name": "stdout",
          "text": [
            "a is 1\n",
            "b is 2\n",
            "c is 5\n",
            "d is 2\n"
          ]
        }
      ],
      "source": [
        "solve(1,2,5,d=2)"
      ]
    },
    {
      "cell_type": "code",
      "execution_count": 28,
      "metadata": {
        "colab": {
          "base_uri": "https://localhost:8080/",
          "height": 148
        },
        "id": "aL6gE0PLre1e",
        "outputId": "15ca5fdf-2b15-4c20-f358-7518a85539d8"
      },
      "outputs": [
        {
          "output_type": "error",
          "ename": "TypeError",
          "evalue": "solve() got multiple values for argument 'a'",
          "traceback": [
            "\u001b[0;31m---------------------------------------------------------------------------\u001b[0m",
            "\u001b[0;31mTypeError\u001b[0m                                 Traceback (most recent call last)",
            "\u001b[0;32m<ipython-input-28-fc3de9bb8f7d>\u001b[0m in \u001b[0;36m<cell line: 0>\u001b[0;34m()\u001b[0m\n\u001b[0;32m----> 1\u001b[0;31m \u001b[0msolve\u001b[0m\u001b[0;34m(\u001b[0m\u001b[0;36m1\u001b[0m\u001b[0;34m,\u001b[0m\u001b[0;36m2\u001b[0m\u001b[0;34m,\u001b[0m\u001b[0ma\u001b[0m\u001b[0;34m=\u001b[0m\u001b[0;36m5\u001b[0m\u001b[0;34m,\u001b[0m\u001b[0md\u001b[0m\u001b[0;34m=\u001b[0m\u001b[0;36m2\u001b[0m\u001b[0;34m)\u001b[0m \u001b[0;31m#Rule is followed but logicalaly not correct\u001b[0m\u001b[0;34m\u001b[0m\u001b[0;34m\u001b[0m\u001b[0m\n\u001b[0m",
            "\u001b[0;31mTypeError\u001b[0m: solve() got multiple values for argument 'a'"
          ]
        }
      ],
      "source": [
        "solve(1,2,a=5,d=2) #Rule is followed but logicalaly not correct"
      ]
    },
    {
      "cell_type": "code",
      "execution_count": 29,
      "metadata": {
        "colab": {
          "base_uri": "https://localhost:8080/",
          "height": 111
        },
        "id": "Kd9RCDWyrsxy",
        "outputId": "d8234091-28b7-40f3-f347-a3840ece0350"
      },
      "outputs": [
        {
          "output_type": "error",
          "ename": "SyntaxError",
          "evalue": "positional argument follows keyword argument (<ipython-input-29-e44a4a5677b9>, line 1)",
          "traceback": [
            "\u001b[0;36m  File \u001b[0;32m\"<ipython-input-29-e44a4a5677b9>\"\u001b[0;36m, line \u001b[0;32m1\u001b[0m\n\u001b[0;31m    solve(a = 4,b = 4, 7, 9) #Rule is not followed\u001b[0m\n\u001b[0m                           ^\u001b[0m\n\u001b[0;31mSyntaxError\u001b[0m\u001b[0;31m:\u001b[0m positional argument follows keyword argument\n"
          ]
        }
      ],
      "source": [
        "solve(a = 4,b = 4, 7, 9) #Rule is not followed"
      ]
    },
    {
      "cell_type": "markdown",
      "metadata": {
        "id": "nKUGnbEcsdIA"
      },
      "source": [
        "**Default Arguments**\n",
        "\n",
        "Default setting for function . its allowed to overwrite"
      ]
    },
    {
      "cell_type": "code",
      "execution_count": 30,
      "metadata": {
        "id": "iISZI4sMsHE8"
      },
      "outputs": [],
      "source": [
        "def new_solve(a,b,c):\n",
        "  print(\"a is\", a)\n",
        "  print(\"b is\", b)\n",
        "  print(\"c is\", c)"
      ]
    },
    {
      "cell_type": "code",
      "execution_count": 31,
      "metadata": {
        "colab": {
          "base_uri": "https://localhost:8080/"
        },
        "id": "da3XVNZassYt",
        "outputId": "8a4d1128-4fbd-4715-c4ee-277c75589f0e"
      },
      "outputs": [
        {
          "output_type": "stream",
          "name": "stdout",
          "text": [
            "a is 1\n",
            "b is 4\n",
            "c is 7\n"
          ]
        }
      ],
      "source": [
        "new_solve(1,4,7)"
      ]
    },
    {
      "cell_type": "code",
      "execution_count": 32,
      "metadata": {
        "id": "y-uWKuI0sxhA"
      },
      "outputs": [],
      "source": [
        "def new_solve(a,b,c = 4): #C is a defaulted argument, if nothing is passed c takes 4\n",
        "  print(\"a is\", a)\n",
        "  print(\"b is\", b)\n",
        "  print(\"c is\", c)"
      ]
    },
    {
      "cell_type": "code",
      "execution_count": 33,
      "metadata": {
        "colab": {
          "base_uri": "https://localhost:8080/"
        },
        "id": "JLU4uiShtC4b",
        "outputId": "ea291b8c-5d70-409e-ec6f-ee2b70cca96f"
      },
      "outputs": [
        {
          "output_type": "stream",
          "name": "stdout",
          "text": [
            "a is 1\n",
            "b is 4\n",
            "c is 4\n"
          ]
        }
      ],
      "source": [
        "new_solve(1,4)"
      ]
    },
    {
      "cell_type": "code",
      "execution_count": 34,
      "metadata": {
        "colab": {
          "base_uri": "https://localhost:8080/"
        },
        "id": "LfgP-KiCtF8-",
        "outputId": "e729bc29-3790-4509-89f7-fb81dc0eacba"
      },
      "outputs": [
        {
          "output_type": "stream",
          "name": "stdout",
          "text": [
            "a is 1\n",
            "b is 4\n",
            "c is 5\n"
          ]
        }
      ],
      "source": [
        "new_solve(1,4,5)"
      ]
    },
    {
      "cell_type": "code",
      "execution_count": 35,
      "metadata": {
        "colab": {
          "base_uri": "https://localhost:8080/",
          "height": 148
        },
        "id": "qSsKu_hLtRNH",
        "outputId": "ab6de298-cac3-4fac-c3e4-b345c60437a8"
      },
      "outputs": [
        {
          "output_type": "error",
          "ename": "TypeError",
          "evalue": "new_solve() missing 1 required positional argument: 'b'",
          "traceback": [
            "\u001b[0;31m---------------------------------------------------------------------------\u001b[0m",
            "\u001b[0;31mTypeError\u001b[0m                                 Traceback (most recent call last)",
            "\u001b[0;32m<ipython-input-35-4178e243f0ab>\u001b[0m in \u001b[0;36m<cell line: 0>\u001b[0;34m()\u001b[0m\n\u001b[0;32m----> 1\u001b[0;31m \u001b[0mnew_solve\u001b[0m\u001b[0;34m(\u001b[0m\u001b[0;36m1\u001b[0m\u001b[0;34m)\u001b[0m\u001b[0;34m\u001b[0m\u001b[0;34m\u001b[0m\u001b[0m\n\u001b[0m",
            "\u001b[0;31mTypeError\u001b[0m: new_solve() missing 1 required positional argument: 'b'"
          ]
        }
      ],
      "source": [
        "new_solve(1)"
      ]
    },
    {
      "cell_type": "code",
      "execution_count": 36,
      "metadata": {
        "colab": {
          "base_uri": "https://localhost:8080/",
          "height": 111
        },
        "id": "h0eGuv-etXE7",
        "outputId": "8b9678c0-a7ca-4a5b-bb71-7607ff797cbe"
      },
      "outputs": [
        {
          "output_type": "error",
          "ename": "SyntaxError",
          "evalue": "non-default argument follows default argument (<ipython-input-36-71f96044f890>, line 1)",
          "traceback": [
            "\u001b[0;36m  File \u001b[0;32m\"<ipython-input-36-71f96044f890>\"\u001b[0;36m, line \u001b[0;32m1\u001b[0m\n\u001b[0;31m    def new_solve(a,b = 4,c): #b is a defaulted argument, if nothing is passed b takes 4\u001b[0m\n\u001b[0m                          ^\u001b[0m\n\u001b[0;31mSyntaxError\u001b[0m\u001b[0;31m:\u001b[0m non-default argument follows default argument\n"
          ]
        }
      ],
      "source": [
        "def new_solve(a,b = 4,c): #b is a defaulted argument, if nothing is passed b takes 4\n",
        "  print(\"a is\", a)\n",
        "  print(\"b is\", b)\n",
        "  print(\"c is\", c)"
      ]
    },
    {
      "cell_type": "markdown",
      "metadata": {
        "id": "jLwg83E9trC5"
      },
      "source": [
        "Rule: In the function definition, all the default arguments should be AFTER all the non-default arguments\n"
      ]
    },
    {
      "cell_type": "code",
      "execution_count": 37,
      "metadata": {
        "id": "u_ik_deDt40w"
      },
      "outputs": [],
      "source": [
        "def new_solve(a,b = 4,c = 6): #b,c is a defaulted argument.\n",
        "  print(\"a is\", a)\n",
        "  print(\"b is\", b)\n",
        "  print(\"c is\", c)"
      ]
    },
    {
      "cell_type": "code",
      "execution_count": 38,
      "metadata": {
        "colab": {
          "base_uri": "https://localhost:8080/"
        },
        "id": "S5G03OdeuGAO",
        "outputId": "3d2290eb-9663-4369-88f2-ae594adce91f"
      },
      "outputs": [
        {
          "output_type": "stream",
          "name": "stdout",
          "text": [
            "a is 7\n",
            "b is 8\n",
            "c is 6\n"
          ]
        }
      ],
      "source": [
        "new_solve(7,8)"
      ]
    },
    {
      "cell_type": "code",
      "execution_count": 39,
      "metadata": {
        "colab": {
          "base_uri": "https://localhost:8080/"
        },
        "id": "LSRiKCAvuH5l",
        "outputId": "ec3642db-88ad-4a22-9281-d6c19f78dc2b"
      },
      "outputs": [
        {
          "output_type": "stream",
          "name": "stdout",
          "text": [
            "a is 7\n",
            "b is 8\n",
            "c is 9\n"
          ]
        }
      ],
      "source": [
        "new_solve(7,8,9)"
      ]
    },
    {
      "cell_type": "code",
      "execution_count": 40,
      "metadata": {
        "colab": {
          "base_uri": "https://localhost:8080/"
        },
        "id": "cEu0Xv_0uKgW",
        "outputId": "78cab6d6-c12e-4d3c-de0d-33f5fc9b60cf"
      },
      "outputs": [
        {
          "output_type": "stream",
          "name": "stdout",
          "text": [
            "a is 7\n",
            "b is 4\n",
            "c is 6\n"
          ]
        }
      ],
      "source": [
        "new_solve(7)"
      ]
    },
    {
      "cell_type": "code",
      "execution_count": 41,
      "metadata": {
        "colab": {
          "base_uri": "https://localhost:8080/",
          "height": 148
        },
        "id": "OAsNJeHRuNP1",
        "outputId": "96915869-c5c8-4f13-fee0-0d1781eea020"
      },
      "outputs": [
        {
          "output_type": "error",
          "ename": "TypeError",
          "evalue": "new_solve() missing 1 required positional argument: 'a'",
          "traceback": [
            "\u001b[0;31m---------------------------------------------------------------------------\u001b[0m",
            "\u001b[0;31mTypeError\u001b[0m                                 Traceback (most recent call last)",
            "\u001b[0;32m<ipython-input-41-f4648302900b>\u001b[0m in \u001b[0;36m<cell line: 0>\u001b[0;34m()\u001b[0m\n\u001b[0;32m----> 1\u001b[0;31m \u001b[0mnew_solve\u001b[0m\u001b[0;34m(\u001b[0m\u001b[0;34m)\u001b[0m\u001b[0;34m\u001b[0m\u001b[0;34m\u001b[0m\u001b[0m\n\u001b[0m",
            "\u001b[0;31mTypeError\u001b[0m: new_solve() missing 1 required positional argument: 'a'"
          ]
        }
      ],
      "source": [
        "new_solve()"
      ]
    },
    {
      "cell_type": "code",
      "execution_count": 42,
      "metadata": {
        "colab": {
          "base_uri": "https://localhost:8080/"
        },
        "id": "Dh2yKPTcuS3H",
        "outputId": "d091f99d-9be7-4190-b200-5a6635197fa3"
      },
      "outputs": [
        {
          "output_type": "stream",
          "name": "stdout",
          "text": [
            "a is 7\n",
            "b is 4\n",
            "c is 8\n"
          ]
        }
      ],
      "source": [
        "new_solve(7,c=8)"
      ]
    },
    {
      "cell_type": "code",
      "execution_count": 43,
      "metadata": {
        "colab": {
          "base_uri": "https://localhost:8080/"
        },
        "id": "LV7nwNpbuh3X",
        "outputId": "0e5a4efd-05fa-46ac-df8e-b3b86c0c9b50"
      },
      "outputs": [
        {
          "output_type": "stream",
          "name": "stdout",
          "text": [
            "a is 7\n",
            "b is 8\n",
            "c is 6\n"
          ]
        }
      ],
      "source": [
        "new_solve(7,b=8)"
      ]
    },
    {
      "cell_type": "markdown",
      "metadata": {
        "id": "xXY65MItwEfX"
      },
      "source": [
        "**Global and Local scope of variable**"
      ]
    },
    {
      "cell_type": "code",
      "execution_count": 44,
      "metadata": {
        "colab": {
          "base_uri": "https://localhost:8080/",
          "height": 222
        },
        "id": "M7TgE8J_ujoH",
        "outputId": "439ebf0e-4ddf-4ec3-d2f6-bf292453da6e"
      },
      "outputs": [
        {
          "output_type": "stream",
          "name": "stdout",
          "text": [
            "100\n"
          ]
        },
        {
          "output_type": "error",
          "ename": "NameError",
          "evalue": "name 'number' is not defined",
          "traceback": [
            "\u001b[0;31m---------------------------------------------------------------------------\u001b[0m",
            "\u001b[0;31mNameError\u001b[0m                                 Traceback (most recent call last)",
            "\u001b[0;32m<ipython-input-44-22aaf773623b>\u001b[0m in \u001b[0;36m<cell line: 0>\u001b[0;34m()\u001b[0m\n\u001b[1;32m      5\u001b[0m \u001b[0;34m\u001b[0m\u001b[0m\n\u001b[1;32m      6\u001b[0m \u001b[0mcalculator\u001b[0m\u001b[0;34m(\u001b[0m\u001b[0ma\u001b[0m\u001b[0;34m)\u001b[0m\u001b[0;34m\u001b[0m\u001b[0;34m\u001b[0m\u001b[0m\n\u001b[0;32m----> 7\u001b[0;31m \u001b[0mprint\u001b[0m\u001b[0;34m(\u001b[0m\u001b[0mnumber\u001b[0m\u001b[0;34m)\u001b[0m\u001b[0;34m\u001b[0m\u001b[0;34m\u001b[0m\u001b[0m\n\u001b[0m\u001b[1;32m      8\u001b[0m \u001b[0mprint\u001b[0m\u001b[0;34m(\u001b[0m\u001b[0ma\u001b[0m\u001b[0;34m)\u001b[0m\u001b[0;34m\u001b[0m\u001b[0;34m\u001b[0m\u001b[0m\n",
            "\u001b[0;31mNameError\u001b[0m: name 'number' is not defined"
          ]
        }
      ],
      "source": [
        "#Quiz\n",
        "a = 10\n",
        "def calculator(number):\n",
        "    print(number * 10)\n",
        "\n",
        "calculator(a)\n",
        "print(number)\n",
        "print(a)"
      ]
    },
    {
      "cell_type": "markdown",
      "metadata": {
        "id": "bH2uiWpZxtCq"
      },
      "source": [
        "Local variables: within the method/function\n",
        "\n",
        "Global variables: outside the method/function\n",
        "\n",
        "We cannot access local variables outside the function\n"
      ]
    },
    {
      "cell_type": "code",
      "execution_count": 45,
      "metadata": {
        "colab": {
          "base_uri": "https://localhost:8080/"
        },
        "id": "_6JvgM2Fwwmu",
        "outputId": "2883a38a-bc9a-4581-e902-430abdac09bc"
      },
      "outputs": [
        {
          "output_type": "stream",
          "name": "stdout",
          "text": [
            "100\n",
            "10\n"
          ]
        }
      ],
      "source": [
        "#Quiz\n",
        "a = 10 #Global variable\n",
        "def calculator(number):\n",
        "    print(number * 10)\n",
        "\n",
        "calculator(a)\n",
        "print(a)"
      ]
    },
    {
      "cell_type": "code",
      "execution_count": 46,
      "metadata": {
        "colab": {
          "base_uri": "https://localhost:8080/"
        },
        "id": "oUqPGqYzwyeF",
        "outputId": "57d23da5-7bde-41be-8088-293dc1f452cd"
      },
      "outputs": [
        {
          "output_type": "stream",
          "name": "stdout",
          "text": [
            "5\n",
            "77\n"
          ]
        }
      ],
      "source": [
        "#Quiz\n",
        "def solve(n):\n",
        "  aa = 5 #local\n",
        "  print(aa)\n",
        "  print(n)\n",
        "\n",
        "solve(77)"
      ]
    },
    {
      "cell_type": "code",
      "execution_count": 47,
      "metadata": {
        "colab": {
          "base_uri": "https://localhost:8080/",
          "height": 148
        },
        "id": "Io5rSzPZySEW",
        "outputId": "73a5ba1a-1538-413b-c068-110eb4279d5d"
      },
      "outputs": [
        {
          "output_type": "error",
          "ename": "NameError",
          "evalue": "name 'aa' is not defined",
          "traceback": [
            "\u001b[0;31m---------------------------------------------------------------------------\u001b[0m",
            "\u001b[0;31mNameError\u001b[0m                                 Traceback (most recent call last)",
            "\u001b[0;32m<ipython-input-47-07e6acedc6ef>\u001b[0m in \u001b[0;36m<cell line: 0>\u001b[0;34m()\u001b[0m\n\u001b[0;32m----> 1\u001b[0;31m \u001b[0mprint\u001b[0m\u001b[0;34m(\u001b[0m\u001b[0maa\u001b[0m\u001b[0;34m)\u001b[0m \u001b[0;31m#access local variables outside the function\u001b[0m\u001b[0;34m\u001b[0m\u001b[0;34m\u001b[0m\u001b[0m\n\u001b[0m",
            "\u001b[0;31mNameError\u001b[0m: name 'aa' is not defined"
          ]
        }
      ],
      "source": [
        "print(aa) #access local variables outside the function"
      ]
    },
    {
      "cell_type": "code",
      "execution_count": 48,
      "metadata": {
        "colab": {
          "base_uri": "https://localhost:8080/"
        },
        "id": "h36sPOtNyYwz",
        "outputId": "e9951803-18f7-4f74-a3f4-37b5e5121c80"
      },
      "outputs": [
        {
          "output_type": "stream",
          "name": "stdout",
          "text": [
            "5\n",
            "77\n"
          ]
        }
      ],
      "source": [
        "#Quiz\n",
        "a = 10 #global\n",
        "def solve(n):\n",
        "  a = 5 #local\n",
        "  print(a)\n",
        "  print(n)\n",
        "\n",
        "solve(77)"
      ]
    },
    {
      "cell_type": "code",
      "execution_count": 49,
      "metadata": {
        "colab": {
          "base_uri": "https://localhost:8080/"
        },
        "id": "xV5FBhnqyp7L",
        "outputId": "abe1b6cc-d779-4086-dc7a-5396b1bd2a8c"
      },
      "outputs": [
        {
          "output_type": "stream",
          "name": "stdout",
          "text": [
            "10\n"
          ]
        }
      ],
      "source": [
        "print(a)"
      ]
    },
    {
      "cell_type": "code",
      "source": [
        "a = 10 #global\n",
        "\n",
        "def solve(n):\n",
        "  global a #access the global a\n",
        "  a = 5\n",
        "  print(a)\n",
        "  print(n)\n",
        "\n",
        "solve(7)"
      ],
      "metadata": {
        "colab": {
          "base_uri": "https://localhost:8080/"
        },
        "id": "VSkISzp67KFf",
        "outputId": "b1baf31d-8d53-4780-e50f-8b65b73b5dfe"
      },
      "execution_count": 50,
      "outputs": [
        {
          "output_type": "stream",
          "name": "stdout",
          "text": [
            "5\n",
            "7\n"
          ]
        }
      ]
    },
    {
      "cell_type": "code",
      "source": [
        "print(a)"
      ],
      "metadata": {
        "colab": {
          "base_uri": "https://localhost:8080/"
        },
        "id": "srNkQTIj7M9m",
        "outputId": "669317c4-4c62-4341-9548-a113e02a6929"
      },
      "execution_count": 51,
      "outputs": [
        {
          "output_type": "stream",
          "name": "stdout",
          "text": [
            "5\n"
          ]
        }
      ]
    },
    {
      "cell_type": "code",
      "source": [
        "'''\n",
        "Q1\n",
        "Create a date printing function\n",
        "Should take in 4 arguments\n",
        "day, month, year, style\n",
        "\n",
        "styling logic:\n",
        "\n",
        "style = 0: print in this format: d / m / y\n",
        "style = 1: print in this format: m / d / y\n",
        "\n",
        "style anything else: print \"invalid style\"\n",
        "\n",
        "IMP: default style is 0\n",
        "\n",
        "eg: print_date(d, m, y, s):\n",
        "\n",
        "21, 7, 2023, 0\n",
        "op: 21 / 7 / 2023\n",
        "'''"
      ],
      "metadata": {
        "colab": {
          "base_uri": "https://localhost:8080/",
          "height": 70
        },
        "id": "aOzhlIkl7QBG",
        "outputId": "7c25c068-1d2d-42e3-ed64-ffade4059cd2"
      },
      "execution_count": null,
      "outputs": [
        {
          "output_type": "execute_result",
          "data": {
            "text/plain": [
              "'\\nQ1\\nCreate a date printing function\\nShould take in 4 arguments\\nday, month, year, style\\n\\nstyling logic:\\n\\nstyle = 0: print in this format: d / m / y\\nstyle = 1: print in this format: m / d / y\\n\\nstyle anything else: print \"invalid style\"\\n\\nIMP: default style is 0\\n\\neg: print_date(d, m, y, s):\\n\\n21, 7, 2023, 0\\nop: 21 / 7 / 2023\\n'"
            ],
            "application/vnd.google.colaboratory.intrinsic+json": {
              "type": "string"
            }
          },
          "metadata": {},
          "execution_count": 69
        }
      ]
    },
    {
      "cell_type": "code",
      "source": [
        "def print_date(d, m, y, s):\n",
        "  if s == 0:\n",
        "    print(d, \"/\", m, \"/\", y)\n",
        "  elif s == 1:\n",
        "    print(m, \"/\", d, \"/\", y)\n",
        "  else:\n",
        "    print(\"invalid style\")"
      ],
      "metadata": {
        "id": "P2tDw4bS7T25"
      },
      "execution_count": 52,
      "outputs": []
    },
    {
      "cell_type": "code",
      "source": [
        "print_date(21, 7, 2023, 0) #style 0\n",
        "print_date(21, 7, 2023, 1) #style 1\n",
        "print_date(21, 7, 2023, 5) #Invalid style"
      ],
      "metadata": {
        "colab": {
          "base_uri": "https://localhost:8080/"
        },
        "id": "4ZQeMstZ7V3B",
        "outputId": "4a7c79fd-f163-4702-83b1-39cbbbbe67d2"
      },
      "execution_count": 53,
      "outputs": [
        {
          "output_type": "stream",
          "name": "stdout",
          "text": [
            "21 / 7 / 2023\n",
            "7 / 21 / 2023\n",
            "invalid style\n"
          ]
        }
      ]
    },
    {
      "cell_type": "code",
      "source": [
        "print_date(21, 7, 2023)"
      ],
      "metadata": {
        "colab": {
          "base_uri": "https://localhost:8080/",
          "height": 148
        },
        "id": "LBmZhfhf7loU",
        "outputId": "c9cbc51b-9e67-4c6b-9ae5-937f6d1548d9"
      },
      "execution_count": 54,
      "outputs": [
        {
          "output_type": "error",
          "ename": "TypeError",
          "evalue": "print_date() missing 1 required positional argument: 's'",
          "traceback": [
            "\u001b[0;31m---------------------------------------------------------------------------\u001b[0m",
            "\u001b[0;31mTypeError\u001b[0m                                 Traceback (most recent call last)",
            "\u001b[0;32m<ipython-input-54-5d245e0c44fe>\u001b[0m in \u001b[0;36m<cell line: 0>\u001b[0;34m()\u001b[0m\n\u001b[0;32m----> 1\u001b[0;31m \u001b[0mprint_date\u001b[0m\u001b[0;34m(\u001b[0m\u001b[0;36m21\u001b[0m\u001b[0;34m,\u001b[0m \u001b[0;36m7\u001b[0m\u001b[0;34m,\u001b[0m \u001b[0;36m2023\u001b[0m\u001b[0;34m)\u001b[0m\u001b[0;34m\u001b[0m\u001b[0;34m\u001b[0m\u001b[0m\n\u001b[0m",
            "\u001b[0;31mTypeError\u001b[0m: print_date() missing 1 required positional argument: 's'"
          ]
        }
      ]
    },
    {
      "cell_type": "code",
      "source": [
        "def print_date(d, m, y, s = 0): #default style is 0\n",
        "  if s == 0:\n",
        "    print(d, \"/\", m, \"/\", y)\n",
        "  elif s == 1:\n",
        "    print(m, \"/\", d, \"/\", y)\n",
        "  else:\n",
        "    print(\"invalid style\")"
      ],
      "metadata": {
        "id": "99Lvf-Cr76OP"
      },
      "execution_count": 55,
      "outputs": []
    },
    {
      "cell_type": "code",
      "source": [
        "print_date(21, 7, 2023)"
      ],
      "metadata": {
        "colab": {
          "base_uri": "https://localhost:8080/"
        },
        "id": "xJgC-fLH8AJa",
        "outputId": "c823f3b4-a147-402b-d010-2e71916e5a72"
      },
      "execution_count": 56,
      "outputs": [
        {
          "output_type": "stream",
          "name": "stdout",
          "text": [
            "21 / 7 / 2023\n"
          ]
        }
      ]
    },
    {
      "cell_type": "code",
      "source": [
        "print_date(21, 7, 2023, 1)"
      ],
      "metadata": {
        "colab": {
          "base_uri": "https://localhost:8080/"
        },
        "id": "mG2YC7Lj8Czm",
        "outputId": "56e241e3-33a4-47e3-ae10-7c5613f71fdd"
      },
      "execution_count": 57,
      "outputs": [
        {
          "output_type": "stream",
          "name": "stdout",
          "text": [
            "7 / 21 / 2023\n"
          ]
        }
      ]
    },
    {
      "cell_type": "code",
      "source": [
        "print_date(7, 21, 2023, 0) #(d,m,y,s) is it correct? No Because of default argument we lost the control"
      ],
      "metadata": {
        "colab": {
          "base_uri": "https://localhost:8080/"
        },
        "id": "J40OkqLg8FjZ",
        "outputId": "a0f4ed1a-1b68-4063-b096-0bef732ec113"
      },
      "execution_count": 58,
      "outputs": [
        {
          "output_type": "stream",
          "name": "stdout",
          "text": [
            "7 / 21 / 2023\n"
          ]
        }
      ]
    },
    {
      "cell_type": "code",
      "source": [
        "print_date(21, 7, 2023, 5)"
      ],
      "metadata": {
        "colab": {
          "base_uri": "https://localhost:8080/"
        },
        "id": "v8F5ASzR8kPi",
        "outputId": "1a0ac180-2eaa-48ea-c0f2-67024924e831"
      },
      "execution_count": 59,
      "outputs": [
        {
          "output_type": "stream",
          "name": "stdout",
          "text": [
            "invalid style\n"
          ]
        }
      ]
    },
    {
      "cell_type": "markdown",
      "source": [
        "**Lambda function : its part of functinal programming**"
      ],
      "metadata": {
        "id": "T6LZ6G6Z81JO"
      }
    },
    {
      "cell_type": "markdown",
      "source": [
        "Understand the ternery operator"
      ],
      "metadata": {
        "id": "1D_YrQdk9DjC"
      }
    },
    {
      "cell_type": "code",
      "source": [
        "if 4 > 5 :\n",
        "  a = 50\n",
        "else:\n",
        "  a = 40\n",
        "\n",
        "print(a)"
      ],
      "metadata": {
        "colab": {
          "base_uri": "https://localhost:8080/"
        },
        "id": "gweLyw7s8IFQ",
        "outputId": "b268a2a2-5d8c-4342-eb2e-f9c5a9d2ba9b"
      },
      "execution_count": 60,
      "outputs": [
        {
          "output_type": "stream",
          "name": "stdout",
          "text": [
            "40\n"
          ]
        }
      ]
    },
    {
      "cell_type": "markdown",
      "source": [
        "With one line if we want to write the if-else condition we can use the ternary operator"
      ],
      "metadata": {
        "id": "3RMHetnL-W0Y"
      }
    },
    {
      "cell_type": "markdown",
      "source": [
        "**Syntax:\\\n",
        "[on_true] if [expression] else [on_false]**"
      ],
      "metadata": {
        "id": "BgUKJBXX9ru6"
      }
    },
    {
      "cell_type": "code",
      "source": [
        "a = 50 if 4>5 else 40\n",
        "print(a)"
      ],
      "metadata": {
        "colab": {
          "base_uri": "https://localhost:8080/"
        },
        "id": "XIOnUke29wNT",
        "outputId": "45d0bdc3-c7e5-4019-ded5-e6ffcf24f029"
      },
      "execution_count": 61,
      "outputs": [
        {
          "output_type": "stream",
          "name": "stdout",
          "text": [
            "40\n"
          ]
        }
      ]
    },
    {
      "cell_type": "markdown",
      "source": [
        "\n",
        "**Lambda function**"
      ],
      "metadata": {
        "id": "-XIOv-Vc-n4r"
      }
    },
    {
      "cell_type": "code",
      "source": [
        "#write a function that takes a value and returns twice of it\n",
        "\n",
        "def solve(a):\n",
        "  return 2*a\n",
        "\n",
        "solve(5)"
      ],
      "metadata": {
        "colab": {
          "base_uri": "https://localhost:8080/"
        },
        "id": "8ToQ4Rlh-MmU",
        "outputId": "cd10db32-2e37-49b0-8d9a-7d22539dcc09"
      },
      "execution_count": 62,
      "outputs": [
        {
          "output_type": "execute_result",
          "data": {
            "text/plain": [
              "10"
            ]
          },
          "metadata": {},
          "execution_count": 62
        }
      ]
    },
    {
      "cell_type": "markdown",
      "source": [
        "Write it one line"
      ],
      "metadata": {
        "id": "WPUg-ymR_Fx3"
      }
    },
    {
      "cell_type": "code",
      "source": [
        "solve1 = lambda n:2*n #solve is the function name\n",
        "#lambda is keyword"
      ],
      "metadata": {
        "id": "jty8itWp-9C7"
      },
      "execution_count": 63,
      "outputs": []
    },
    {
      "cell_type": "code",
      "source": [
        "solve1(5)"
      ],
      "metadata": {
        "colab": {
          "base_uri": "https://localhost:8080/"
        },
        "id": "E_N8KzrB_eEm",
        "outputId": "b46cc1e6-b274-479c-c159-2fb056d89c78"
      },
      "execution_count": 64,
      "outputs": [
        {
          "output_type": "execute_result",
          "data": {
            "text/plain": [
              "10"
            ]
          },
          "metadata": {},
          "execution_count": 64
        }
      ]
    },
    {
      "cell_type": "markdown",
      "source": [
        "lambda func is also called anonymous function\n",
        "\n",
        "without function name also we can get the answer"
      ],
      "metadata": {
        "id": "7ocX_6h0_xLo"
      }
    },
    {
      "cell_type": "code",
      "source": [
        "(lambda n : 2*n) (5) #anonymous function"
      ],
      "metadata": {
        "colab": {
          "base_uri": "https://localhost:8080/"
        },
        "id": "WZWpwTR4__Oh",
        "outputId": "e4668691-50e4-45cd-a36a-9c90c0e53521"
      },
      "execution_count": 65,
      "outputs": [
        {
          "output_type": "execute_result",
          "data": {
            "text/plain": [
              "10"
            ]
          },
          "metadata": {},
          "execution_count": 65
        }
      ]
    },
    {
      "cell_type": "markdown",
      "source": [
        "2 argument passing"
      ],
      "metadata": {
        "id": "XG07XVGLAr7G"
      }
    },
    {
      "cell_type": "code",
      "source": [
        "sum = lambda a,b : a+b\n",
        "sum(5,6)"
      ],
      "metadata": {
        "colab": {
          "base_uri": "https://localhost:8080/"
        },
        "id": "dkNlqOfaAYM2",
        "outputId": "23822c52-a917-40e5-8d4d-0ff1af4fea83"
      },
      "execution_count": 66,
      "outputs": [
        {
          "output_type": "execute_result",
          "data": {
            "text/plain": [
              "11"
            ]
          },
          "metadata": {},
          "execution_count": 66
        }
      ]
    },
    {
      "cell_type": "markdown",
      "source": [
        "Ternery operator + lambda function"
      ],
      "metadata": {
        "id": "iKK8-CCzA4FE"
      }
    },
    {
      "cell_type": "code",
      "source": [
        "#Write a function that returns 1 if the number is even else return 0\n",
        "\n",
        "def solve(a):\n",
        "  if a%2==0:\n",
        "    return 1\n",
        "  else:\n",
        "    return 0\n",
        "\n",
        "solve(10)"
      ],
      "metadata": {
        "colab": {
          "base_uri": "https://localhost:8080/"
        },
        "id": "7IcCP8wMAyxK",
        "outputId": "e03f9812-4661-4ea0-d2cf-5727bdf66733"
      },
      "execution_count": 67,
      "outputs": [
        {
          "output_type": "execute_result",
          "data": {
            "text/plain": [
              "1"
            ]
          },
          "metadata": {},
          "execution_count": 67
        }
      ]
    },
    {
      "cell_type": "code",
      "source": [
        "#ternary operator\n",
        "def solve(a):\n",
        "  ans = 1 if a%2==0 else 0\n",
        "  return ans\n",
        "\n",
        "solve(10)"
      ],
      "metadata": {
        "colab": {
          "base_uri": "https://localhost:8080/"
        },
        "id": "fyW-Xu_0BSP0",
        "outputId": "7d54b47f-441c-4823-9e05-380bdbebfe02"
      },
      "execution_count": 68,
      "outputs": [
        {
          "output_type": "execute_result",
          "data": {
            "text/plain": [
              "1"
            ]
          },
          "metadata": {},
          "execution_count": 68
        }
      ]
    },
    {
      "cell_type": "code",
      "source": [
        "#lambda function + ternary\n",
        "solve2 = lambda a : 1 if a%2==0 else 0\n",
        "solve2(10)"
      ],
      "metadata": {
        "colab": {
          "base_uri": "https://localhost:8080/"
        },
        "id": "omW06pYbBqjt",
        "outputId": "a96ca76b-4a01-4c67-a7cf-acf6b6430fd1"
      },
      "execution_count": 69,
      "outputs": [
        {
          "output_type": "execute_result",
          "data": {
            "text/plain": [
              "1"
            ]
          },
          "metadata": {},
          "execution_count": 69
        }
      ]
    },
    {
      "cell_type": "code",
      "source": [
        "solve2(5)"
      ],
      "metadata": {
        "colab": {
          "base_uri": "https://localhost:8080/"
        },
        "id": "U5mCc9bGCA85",
        "outputId": "7ece8aa0-e9b7-4356-c9b6-19531587afb7"
      },
      "execution_count": 70,
      "outputs": [
        {
          "output_type": "execute_result",
          "data": {
            "text/plain": [
              "0"
            ]
          },
          "metadata": {},
          "execution_count": 70
        }
      ]
    },
    {
      "cell_type": "code",
      "source": [
        "#Quiz\n",
        "\n",
        "def function(var):\n",
        "  print(var)\n",
        "\n",
        "function(10)\n",
        "\n",
        "var = 4\n",
        "function(var)"
      ],
      "metadata": {
        "colab": {
          "base_uri": "https://localhost:8080/"
        },
        "id": "5lqLU_OPCB8D",
        "outputId": "94b69cb8-7334-4319-e80d-4684a84d78fc"
      },
      "execution_count": 71,
      "outputs": [
        {
          "output_type": "stream",
          "name": "stdout",
          "text": [
            "10\n",
            "4\n"
          ]
        }
      ]
    },
    {
      "cell_type": "code",
      "source": [],
      "metadata": {
        "id": "uY3GyTZovZDi"
      },
      "execution_count": null,
      "outputs": []
    }
  ],
  "metadata": {
    "colab": {
      "provenance": [],
      "include_colab_link": true
    },
    "kernelspec": {
      "display_name": "Python 3",
      "name": "python3"
    },
    "language_info": {
      "name": "python"
    }
  },
  "nbformat": 4,
  "nbformat_minor": 0
}