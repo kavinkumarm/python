{
  "nbformat": 4,
  "nbformat_minor": 0,
  "metadata": {
    "colab": {
      "provenance": [],
      "authorship_tag": "ABX9TyM3k3uluhJ0nKdNZm02SLta",
      "include_colab_link": true
    },
    "kernelspec": {
      "name": "python3",
      "display_name": "Python 3"
    },
    "language_info": {
      "name": "python"
    }
  },
  "cells": [
    {
      "cell_type": "markdown",
      "metadata": {
        "id": "view-in-github",
        "colab_type": "text"
      },
      "source": [
        "<a href=\"https://colab.research.google.com/github/kavinkumarm/python/blob/main/B2_03_List_1D.ipynb\" target=\"_parent\"><img src=\"https://colab.research.google.com/assets/colab-badge.svg\" alt=\"Open In Colab\"/></a>"
      ]
    },
    {
      "cell_type": "markdown",
      "source": [
        "**ID List**"
      ],
      "metadata": {
        "id": "6KNsF972OUAh"
      }
    },
    {
      "cell_type": "code",
      "execution_count": 1,
      "metadata": {
        "id": "YPAej_JBCU1E"
      },
      "outputs": [],
      "source": [
        "runs = [50, 32, 20, 90] #ID List"
      ]
    },
    {
      "cell_type": "code",
      "source": [
        "type(runs)"
      ],
      "metadata": {
        "colab": {
          "base_uri": "https://localhost:8080/"
        },
        "id": "LLkusP6nCqzO",
        "outputId": "3ac2cd4a-68c0-417f-c7d5-8c80e0c53f9c"
      },
      "execution_count": 2,
      "outputs": [
        {
          "output_type": "execute_result",
          "data": {
            "text/plain": [
              "list"
            ]
          },
          "metadata": {},
          "execution_count": 2
        }
      ]
    },
    {
      "cell_type": "code",
      "source": [
        "print(runs)"
      ],
      "metadata": {
        "colab": {
          "base_uri": "https://localhost:8080/"
        },
        "id": "3b_I-mJ6CzZR",
        "outputId": "e2192656-c499-480d-c19b-f7a641e631fc"
      },
      "execution_count": 3,
      "outputs": [
        {
          "output_type": "stream",
          "name": "stdout",
          "text": [
            "[50, 32, 20, 90]\n"
          ]
        }
      ]
    },
    {
      "cell_type": "code",
      "source": [
        "#Example\n",
        "'''\n",
        "Q1: Given the list runs = [45, 67, 89, 12, 34, 56, 100]\n",
        "print the total of the runs on odd positions in the list.\n",
        "\n",
        "Ans: 45 + 89 + 34 + 100\n",
        "'''"
      ],
      "metadata": {
        "colab": {
          "base_uri": "https://localhost:8080/",
          "height": 36
        },
        "id": "vs0fIZroC2V6",
        "outputId": "8ddd6aa6-c2cb-4c27-a21c-a948e13684ca"
      },
      "execution_count": 4,
      "outputs": [
        {
          "output_type": "execute_result",
          "data": {
            "text/plain": [
              "'\\nQ1: Given the list runs = [45, 67, 89, 12, 34, 56, 100]\\nprint the total of the runs on odd positions in the list.\\n\\nAns: 45 + 89 + 34 + 100\\n'"
            ],
            "application/vnd.google.colaboratory.intrinsic+json": {
              "type": "string"
            }
          },
          "metadata": {},
          "execution_count": 4
        }
      ]
    },
    {
      "cell_type": "code",
      "source": [
        "runs = [45, 67, 89, 12, 34, 56, 100]\n",
        "\n",
        "ans = runs[0] + runs[2] + runs[4] + runs[6]\n",
        "print(ans)"
      ],
      "metadata": {
        "colab": {
          "base_uri": "https://localhost:8080/"
        },
        "id": "iq23CcTGC_jE",
        "outputId": "db69717d-a3e7-4d2f-dc95-e0be65d8b430"
      },
      "execution_count": 7,
      "outputs": [
        {
          "output_type": "stream",
          "name": "stdout",
          "text": [
            "268\n"
          ]
        }
      ]
    },
    {
      "cell_type": "code",
      "source": [
        "45 + 89 + 34 + 100"
      ],
      "metadata": {
        "colab": {
          "base_uri": "https://localhost:8080/"
        },
        "id": "P-nxB37VDllS",
        "outputId": "67c2e757-e00a-4c4e-97c2-bf8802611764"
      },
      "execution_count": 8,
      "outputs": [
        {
          "output_type": "execute_result",
          "data": {
            "text/plain": [
              "268"
            ]
          },
          "metadata": {},
          "execution_count": 8
        }
      ]
    },
    {
      "cell_type": "code",
      "source": [
        "print(runs[3]) #accessing an element of a list"
      ],
      "metadata": {
        "colab": {
          "base_uri": "https://localhost:8080/"
        },
        "id": "fSWCUA-FDGQW",
        "outputId": "5b559fcd-0321-44b4-82f5-a83b6f0aa6dc"
      },
      "execution_count": 9,
      "outputs": [
        {
          "output_type": "stream",
          "name": "stdout",
          "text": [
            "12\n"
          ]
        }
      ]
    },
    {
      "cell_type": "code",
      "source": [
        "#Modifying\n",
        "runs[3] = 101"
      ],
      "metadata": {
        "id": "GpUVQ6AIDvoU"
      },
      "execution_count": 10,
      "outputs": []
    },
    {
      "cell_type": "code",
      "source": [
        "print(runs)"
      ],
      "metadata": {
        "colab": {
          "base_uri": "https://localhost:8080/"
        },
        "id": "bEATkmw9D2IZ",
        "outputId": "116faadd-5c92-4d3d-b907-6d772b0a9d10"
      },
      "execution_count": 11,
      "outputs": [
        {
          "output_type": "stream",
          "name": "stdout",
          "text": [
            "[45, 67, 89, 101, 34, 56, 100]\n"
          ]
        }
      ]
    },
    {
      "cell_type": "code",
      "source": [
        "#Example 2 (modifying)\n",
        "a = [5,4,1,2]\n",
        "a[0] = -7\n",
        "print(a)"
      ],
      "metadata": {
        "colab": {
          "base_uri": "https://localhost:8080/"
        },
        "id": "rrBEG2JRD40Q",
        "outputId": "325e96c4-5da1-47d2-c338-1291abe644f7"
      },
      "execution_count": 12,
      "outputs": [
        {
          "output_type": "stream",
          "name": "stdout",
          "text": [
            "[-7, 4, 1, 2]\n"
          ]
        }
      ]
    },
    {
      "cell_type": "code",
      "source": [
        "#finding the number of elements in a list --> length of the list\n",
        "\n",
        "n = len(a)\n",
        "print(n)"
      ],
      "metadata": {
        "colab": {
          "base_uri": "https://localhost:8080/"
        },
        "id": "PLFdA7hLEGY-",
        "outputId": "a5aa44d0-3a0c-4c03-8c7c-e81600abc8fe"
      },
      "execution_count": 13,
      "outputs": [
        {
          "output_type": "stream",
          "name": "stdout",
          "text": [
            "4\n"
          ]
        }
      ]
    },
    {
      "cell_type": "code",
      "source": [
        "print(a[n])"
      ],
      "metadata": {
        "colab": {
          "base_uri": "https://localhost:8080/",
          "height": 148
        },
        "id": "NGVGdJ6uERLK",
        "outputId": "d5a1200d-9641-4783-c36d-cc8fc661d4d6"
      },
      "execution_count": 14,
      "outputs": [
        {
          "output_type": "error",
          "ename": "IndexError",
          "evalue": "list index out of range",
          "traceback": [
            "\u001b[0;31m---------------------------------------------------------------------------\u001b[0m",
            "\u001b[0;31mIndexError\u001b[0m                                Traceback (most recent call last)",
            "\u001b[0;32m<ipython-input-14-7a1c118fa242>\u001b[0m in \u001b[0;36m<cell line: 0>\u001b[0;34m()\u001b[0m\n\u001b[0;32m----> 1\u001b[0;31m \u001b[0mprint\u001b[0m\u001b[0;34m(\u001b[0m\u001b[0ma\u001b[0m\u001b[0;34m[\u001b[0m\u001b[0mn\u001b[0m\u001b[0;34m]\u001b[0m\u001b[0;34m)\u001b[0m\u001b[0;34m\u001b[0m\u001b[0;34m\u001b[0m\u001b[0m\n\u001b[0m",
            "\u001b[0;31mIndexError\u001b[0m: list index out of range"
          ]
        }
      ]
    },
    {
      "cell_type": "code",
      "source": [
        "print(a)"
      ],
      "metadata": {
        "colab": {
          "base_uri": "https://localhost:8080/"
        },
        "id": "DaJ2ykdaEWe7",
        "outputId": "4bc1acb7-566e-412b-80f1-2de0439ea714"
      },
      "execution_count": 15,
      "outputs": [
        {
          "output_type": "stream",
          "name": "stdout",
          "text": [
            "[-7, 4, 1, 2]\n"
          ]
        }
      ]
    },
    {
      "cell_type": "code",
      "source": [
        "print(a[n-1])"
      ],
      "metadata": {
        "colab": {
          "base_uri": "https://localhost:8080/"
        },
        "id": "FeAF7Vy4EYVC",
        "outputId": "d7f99428-e38d-491c-96f4-e8e0cac21482"
      },
      "execution_count": 16,
      "outputs": [
        {
          "output_type": "stream",
          "name": "stdout",
          "text": [
            "2\n"
          ]
        }
      ]
    },
    {
      "cell_type": "code",
      "source": [
        "a[3]"
      ],
      "metadata": {
        "colab": {
          "base_uri": "https://localhost:8080/"
        },
        "id": "zAOuFwYDEfKm",
        "outputId": "a75039ee-3ce5-4c9e-a072-fc4900e9eb36"
      },
      "execution_count": 17,
      "outputs": [
        {
          "output_type": "execute_result",
          "data": {
            "text/plain": [
              "2"
            ]
          },
          "metadata": {},
          "execution_count": 17
        }
      ]
    },
    {
      "cell_type": "code",
      "source": [
        "print(a[n-2])"
      ],
      "metadata": {
        "colab": {
          "base_uri": "https://localhost:8080/"
        },
        "id": "23FIsluiEhCx",
        "outputId": "f4237af6-0a70-4108-d998-1808898268f3"
      },
      "execution_count": 18,
      "outputs": [
        {
          "output_type": "stream",
          "name": "stdout",
          "text": [
            "1\n"
          ]
        }
      ]
    },
    {
      "cell_type": "code",
      "source": [
        "#Negative indexing\n",
        "print(a)"
      ],
      "metadata": {
        "colab": {
          "base_uri": "https://localhost:8080/"
        },
        "id": "UNO60p35Elx0",
        "outputId": "e5d14f53-a0a4-4fce-a669-68c24dcc31e4"
      },
      "execution_count": 19,
      "outputs": [
        {
          "output_type": "stream",
          "name": "stdout",
          "text": [
            "[-7, 4, 1, 2]\n"
          ]
        }
      ]
    },
    {
      "cell_type": "code",
      "source": [
        "a[3] #last element"
      ],
      "metadata": {
        "colab": {
          "base_uri": "https://localhost:8080/"
        },
        "id": "kEzA9RzHEr_8",
        "outputId": "4ee37eaf-9917-41bd-8d33-db7dc318b338"
      },
      "execution_count": 20,
      "outputs": [
        {
          "output_type": "execute_result",
          "data": {
            "text/plain": [
              "2"
            ]
          },
          "metadata": {},
          "execution_count": 20
        }
      ]
    },
    {
      "cell_type": "code",
      "source": [
        "n = len(a)\n",
        "a[n-1] #last element"
      ],
      "metadata": {
        "colab": {
          "base_uri": "https://localhost:8080/"
        },
        "id": "W06c98m_Eufr",
        "outputId": "e6697247-5478-4d01-d37b-0b98d7d7984a"
      },
      "execution_count": 21,
      "outputs": [
        {
          "output_type": "execute_result",
          "data": {
            "text/plain": [
              "2"
            ]
          },
          "metadata": {},
          "execution_count": 21
        }
      ]
    },
    {
      "cell_type": "code",
      "source": [
        "a[-1] #last element"
      ],
      "metadata": {
        "colab": {
          "base_uri": "https://localhost:8080/"
        },
        "id": "9Hn-MX-OE8qr",
        "outputId": "fcafd633-867a-474b-df4c-3bfe53c177f5"
      },
      "execution_count": 23,
      "outputs": [
        {
          "output_type": "execute_result",
          "data": {
            "text/plain": [
              "2"
            ]
          },
          "metadata": {},
          "execution_count": 23
        }
      ]
    },
    {
      "cell_type": "code",
      "source": [
        "a[-2] #second last element"
      ],
      "metadata": {
        "colab": {
          "base_uri": "https://localhost:8080/"
        },
        "id": "RwRb1OEtFDGp",
        "outputId": "aed2e675-9dd2-44e8-eb2e-5b1ff39842b0"
      },
      "execution_count": 24,
      "outputs": [
        {
          "output_type": "execute_result",
          "data": {
            "text/plain": [
              "1"
            ]
          },
          "metadata": {},
          "execution_count": 24
        }
      ]
    },
    {
      "cell_type": "code",
      "source": [
        "a = [4,4.5,'Aj',True]\n",
        "type(a)"
      ],
      "metadata": {
        "colab": {
          "base_uri": "https://localhost:8080/"
        },
        "id": "HZw24mvxFLRj",
        "outputId": "00849b19-35e7-4211-881e-9ebf8e4e8950"
      },
      "execution_count": 25,
      "outputs": [
        {
          "output_type": "execute_result",
          "data": {
            "text/plain": [
              "list"
            ]
          },
          "metadata": {},
          "execution_count": 25
        }
      ]
    },
    {
      "cell_type": "code",
      "source": [
        "print(a)"
      ],
      "metadata": {
        "colab": {
          "base_uri": "https://localhost:8080/"
        },
        "id": "bMMAm2-4FUxn",
        "outputId": "03c07ba8-d78c-4244-c6b1-318514174531"
      },
      "execution_count": 26,
      "outputs": [
        {
          "output_type": "stream",
          "name": "stdout",
          "text": [
            "[4, 4.5, 'Aj', True]\n"
          ]
        }
      ]
    },
    {
      "cell_type": "markdown",
      "source": [
        "**Adding elements to a list**"
      ],
      "metadata": {
        "id": "E5JLy9NWFdlU"
      }
    },
    {
      "cell_type": "code",
      "source": [
        "runs = [50, 20, 55, 101, 90]"
      ],
      "metadata": {
        "id": "wTAhTcmdFbTW"
      },
      "execution_count": 27,
      "outputs": []
    },
    {
      "cell_type": "code",
      "source": [
        "# way1\n",
        "#append(): to add an element at the end of the list: list_name.append(value_to_be_added)"
      ],
      "metadata": {
        "id": "EI9tnz_QFp21"
      },
      "execution_count": 28,
      "outputs": []
    },
    {
      "cell_type": "code",
      "source": [
        "runs.append(120)"
      ],
      "metadata": {
        "id": "eXPjRFWkFvnm"
      },
      "execution_count": 29,
      "outputs": []
    },
    {
      "cell_type": "code",
      "source": [
        "print(runs)"
      ],
      "metadata": {
        "colab": {
          "base_uri": "https://localhost:8080/"
        },
        "id": "4nUzdXRJFzrC",
        "outputId": "e6722705-eb9b-4cad-8171-3471a25e6dc0"
      },
      "execution_count": 30,
      "outputs": [
        {
          "output_type": "stream",
          "name": "stdout",
          "text": [
            "[50, 20, 55, 101, 90, 120]\n"
          ]
        }
      ]
    },
    {
      "cell_type": "code",
      "source": [
        "runs.append(58)\n",
        "print(runs)"
      ],
      "metadata": {
        "colab": {
          "base_uri": "https://localhost:8080/"
        },
        "id": "Sp2N5meMF1Ay",
        "outputId": "ec463cfc-1bde-4d90-b1a1-0b3a061a92c3"
      },
      "execution_count": 31,
      "outputs": [
        {
          "output_type": "stream",
          "name": "stdout",
          "text": [
            "[50, 20, 55, 101, 90, 120, 58]\n"
          ]
        }
      ]
    },
    {
      "cell_type": "code",
      "source": [
        "#Way2 :\n",
        "#insert(index, value): --> used to insert at a given index"
      ],
      "metadata": {
        "id": "0Ow_1JLqF8i7"
      },
      "execution_count": 32,
      "outputs": []
    },
    {
      "cell_type": "code",
      "source": [
        "print(runs)"
      ],
      "metadata": {
        "colab": {
          "base_uri": "https://localhost:8080/"
        },
        "id": "XtjWRRBlGGLe",
        "outputId": "63a75f48-3cb1-4535-a944-7bcc7176edbb"
      },
      "execution_count": 33,
      "outputs": [
        {
          "output_type": "stream",
          "name": "stdout",
          "text": [
            "[50, 20, 55, 101, 90, 120, 58]\n"
          ]
        }
      ]
    },
    {
      "cell_type": "code",
      "source": [
        "#insert 70 at 3rd position\n",
        "runs.insert(2, 70)\n",
        "print(runs)"
      ],
      "metadata": {
        "colab": {
          "base_uri": "https://localhost:8080/"
        },
        "id": "Re20fYJ0GIuH",
        "outputId": "666bad5e-80fa-4f0b-e6bf-3154d1823366"
      },
      "execution_count": 34,
      "outputs": [
        {
          "output_type": "stream",
          "name": "stdout",
          "text": [
            "[50, 20, 70, 55, 101, 90, 120, 58]\n"
          ]
        }
      ]
    },
    {
      "cell_type": "code",
      "source": [
        "#Quiz\n",
        "\n",
        "my_list = [1,2,3,4,5]\n",
        "my_list.append(6)\n",
        "print(my_list)"
      ],
      "metadata": {
        "colab": {
          "base_uri": "https://localhost:8080/"
        },
        "id": "X0KAym-ZGUTv",
        "outputId": "061e0997-68e8-4426-c754-30f97669b084"
      },
      "execution_count": 36,
      "outputs": [
        {
          "output_type": "stream",
          "name": "stdout",
          "text": [
            "[1, 2, 3, 4, 5, 6]\n"
          ]
        }
      ]
    },
    {
      "cell_type": "code",
      "source": [
        "#Way3 : using extend keyword\n",
        "# we can add two list item into sigle list\n",
        "\n",
        "a = [4,7,1,3]\n",
        "print(a)"
      ],
      "metadata": {
        "colab": {
          "base_uri": "https://localhost:8080/"
        },
        "id": "bXWpDDsEGijh",
        "outputId": "431abaff-050a-47ee-d110-703d06e65417"
      },
      "execution_count": 37,
      "outputs": [
        {
          "output_type": "stream",
          "name": "stdout",
          "text": [
            "[4, 7, 1, 3]\n"
          ]
        }
      ]
    },
    {
      "cell_type": "code",
      "source": [
        "a.extend([8,2])\n",
        "print(a)"
      ],
      "metadata": {
        "colab": {
          "base_uri": "https://localhost:8080/"
        },
        "id": "nxrv1SW1G5cv",
        "outputId": "bbfd93fb-946f-4640-f630-0e9eab20a2f4"
      },
      "execution_count": 38,
      "outputs": [
        {
          "output_type": "stream",
          "name": "stdout",
          "text": [
            "[4, 7, 1, 3, 8, 2]\n"
          ]
        }
      ]
    },
    {
      "cell_type": "code",
      "source": [
        "#Note\n",
        "'''\n",
        "#append, insert and extend --> inplace:\n",
        "it doesnt return a new list but makes modifications to the original list\n",
        "itself\n",
        "'''"
      ],
      "metadata": {
        "colab": {
          "base_uri": "https://localhost:8080/",
          "height": 36
        },
        "id": "I1XKejtkG_Pk",
        "outputId": "1f47931a-b11a-41ac-e1e4-70d4dcbc47d7"
      },
      "execution_count": 40,
      "outputs": [
        {
          "output_type": "execute_result",
          "data": {
            "text/plain": [
              "'\\n#append, insert and extend --> inplace: \\nit doesnt return a new list but makes modifications to the original list\\nitself\\n'"
            ],
            "application/vnd.google.colaboratory.intrinsic+json": {
              "type": "string"
            }
          },
          "metadata": {},
          "execution_count": 40
        }
      ]
    },
    {
      "cell_type": "code",
      "source": [
        "#way 4 : by using + sign\n",
        "\n",
        "print(a)"
      ],
      "metadata": {
        "colab": {
          "base_uri": "https://localhost:8080/"
        },
        "id": "kE3vWrbJHHiN",
        "outputId": "4a8c17d3-f14c-4927-aa18-4fa978322d07"
      },
      "execution_count": 41,
      "outputs": [
        {
          "output_type": "stream",
          "name": "stdout",
          "text": [
            "[4, 7, 1, 3, 8, 2]\n"
          ]
        }
      ]
    },
    {
      "cell_type": "code",
      "source": [
        "type(a)"
      ],
      "metadata": {
        "colab": {
          "base_uri": "https://localhost:8080/"
        },
        "id": "vTzKk_NUHcaq",
        "outputId": "1bec784f-cb82-4d2e-dd89-988f0b6e8b41"
      },
      "execution_count": 42,
      "outputs": [
        {
          "output_type": "execute_result",
          "data": {
            "text/plain": [
              "list"
            ]
          },
          "metadata": {},
          "execution_count": 42
        }
      ]
    },
    {
      "cell_type": "code",
      "source": [
        "b = a + [2]\n",
        "print(b)"
      ],
      "metadata": {
        "colab": {
          "base_uri": "https://localhost:8080/"
        },
        "id": "mXmNpkUVHd_f",
        "outputId": "c1ec898d-500a-432a-d6ec-d500031a8c09"
      },
      "execution_count": 44,
      "outputs": [
        {
          "output_type": "stream",
          "name": "stdout",
          "text": [
            "[4, 7, 1, 3, 8, 2, 2]\n"
          ]
        }
      ]
    },
    {
      "cell_type": "code",
      "source": [
        "a = a + [5]\n",
        "print(a)"
      ],
      "metadata": {
        "colab": {
          "base_uri": "https://localhost:8080/"
        },
        "id": "kmsEIVVTHgpE",
        "outputId": "b23b0243-77e7-4b52-b1d3-97b982e09694"
      },
      "execution_count": 45,
      "outputs": [
        {
          "output_type": "stream",
          "name": "stdout",
          "text": [
            "[4, 7, 1, 3, 8, 2, 5]\n"
          ]
        }
      ]
    },
    {
      "cell_type": "code",
      "source": [
        "c = a + [6,8,2]\n",
        "print(c)"
      ],
      "metadata": {
        "colab": {
          "base_uri": "https://localhost:8080/"
        },
        "id": "Qe02xUPPHwnP",
        "outputId": "354d8451-fb00-4497-8336-7440825f8107"
      },
      "execution_count": 46,
      "outputs": [
        {
          "output_type": "stream",
          "name": "stdout",
          "text": [
            "[4, 7, 1, 3, 8, 2, 5, 6, 8, 2]\n"
          ]
        }
      ]
    },
    {
      "cell_type": "code",
      "source": [
        "#uiz\n",
        "\n",
        "a = [3,5]\n",
        "b = [7,9]\n",
        "c = a + b\n",
        "print(c)"
      ],
      "metadata": {
        "colab": {
          "base_uri": "https://localhost:8080/"
        },
        "id": "4PYvJiVEH2en",
        "outputId": "995b29ba-149c-4012-dbf1-6efebbc55e47"
      },
      "execution_count": 47,
      "outputs": [
        {
          "output_type": "stream",
          "name": "stdout",
          "text": [
            "[3, 5, 7, 9]\n"
          ]
        }
      ]
    },
    {
      "cell_type": "markdown",
      "source": [
        "**How to iterate over lists**"
      ],
      "metadata": {
        "id": "cfGWuiHvIFqK"
      }
    },
    {
      "cell_type": "code",
      "source": [
        "for i in range(5):\n",
        "  print(i)"
      ],
      "metadata": {
        "colab": {
          "base_uri": "https://localhost:8080/"
        },
        "id": "KokyCDnSIDd8",
        "outputId": "30949b61-4d8a-451e-ff12-37b91af7a2cd"
      },
      "execution_count": 49,
      "outputs": [
        {
          "output_type": "stream",
          "name": "stdout",
          "text": [
            "0\n",
            "1\n",
            "2\n",
            "3\n",
            "4\n"
          ]
        }
      ]
    },
    {
      "cell_type": "code",
      "source": [
        "for i in [0,1,2,3,4]:\n",
        "  print(i)"
      ],
      "metadata": {
        "colab": {
          "base_uri": "https://localhost:8080/"
        },
        "id": "oEyp4vOcISSx",
        "outputId": "0fbaaf00-be6b-4b0a-feb1-585542ce446c"
      },
      "execution_count": 50,
      "outputs": [
        {
          "output_type": "stream",
          "name": "stdout",
          "text": [
            "0\n",
            "1\n",
            "2\n",
            "3\n",
            "4\n"
          ]
        }
      ]
    },
    {
      "cell_type": "code",
      "source": [
        "for i in [6,3,1]:\n",
        "  print(i)"
      ],
      "metadata": {
        "colab": {
          "base_uri": "https://localhost:8080/"
        },
        "id": "cW4BOIQGIdIH",
        "outputId": "d43055a3-2ae9-406d-8ee9-7233b7054607"
      },
      "execution_count": 51,
      "outputs": [
        {
          "output_type": "stream",
          "name": "stdout",
          "text": [
            "6\n",
            "3\n",
            "1\n"
          ]
        }
      ]
    },
    {
      "cell_type": "code",
      "source": [
        "a = [6,3,1]\n",
        "\n",
        "for i in a:\n",
        "  print(i)"
      ],
      "metadata": {
        "colab": {
          "base_uri": "https://localhost:8080/"
        },
        "id": "1PrqOsuTI2QF",
        "outputId": "93f91595-03f1-41b5-8593-031d3eabc8bd"
      },
      "execution_count": 52,
      "outputs": [
        {
          "output_type": "stream",
          "name": "stdout",
          "text": [
            "6\n",
            "3\n",
            "1\n"
          ]
        }
      ]
    },
    {
      "cell_type": "code",
      "source": [
        "print(a[0])\n",
        "print(a[1])\n",
        "print(a[2])"
      ],
      "metadata": {
        "colab": {
          "base_uri": "https://localhost:8080/"
        },
        "id": "xQ0Kn9ixI8aX",
        "outputId": "688988d5-d41e-4f6e-9cc3-71a39272f697"
      },
      "execution_count": 53,
      "outputs": [
        {
          "output_type": "stream",
          "name": "stdout",
          "text": [
            "6\n",
            "3\n",
            "1\n"
          ]
        }
      ]
    },
    {
      "cell_type": "code",
      "source": [
        "print(a)\n",
        "\n",
        "for i in [0,1,2]:\n",
        "  print(a[i])"
      ],
      "metadata": {
        "colab": {
          "base_uri": "https://localhost:8080/"
        },
        "id": "Jt1mUudXJC9K",
        "outputId": "8cedff1a-c301-4051-be09-59da9851b7b0"
      },
      "execution_count": 54,
      "outputs": [
        {
          "output_type": "stream",
          "name": "stdout",
          "text": [
            "[6, 3, 1]\n",
            "6\n",
            "3\n",
            "1\n"
          ]
        }
      ]
    },
    {
      "cell_type": "code",
      "source": [
        "for i in range(3):\n",
        "  print(a[i])"
      ],
      "metadata": {
        "colab": {
          "base_uri": "https://localhost:8080/"
        },
        "id": "XEwnzExwJRvO",
        "outputId": "21c6a79a-a939-4e66-bed8-7c5aea6db7a7"
      },
      "execution_count": 56,
      "outputs": [
        {
          "output_type": "stream",
          "name": "stdout",
          "text": [
            "6\n",
            "3\n",
            "1\n"
          ]
        }
      ]
    },
    {
      "cell_type": "code",
      "source": [
        "a = [6,4,7,1,4,8]\n",
        "\n",
        "n = len(a)\n",
        "\n",
        "for i in range(n):\n",
        "  print(a[i])"
      ],
      "metadata": {
        "colab": {
          "base_uri": "https://localhost:8080/"
        },
        "id": "oJ6SlTi2JWiO",
        "outputId": "5b66afae-aa55-4006-da0a-21fa7a814589"
      },
      "execution_count": 57,
      "outputs": [
        {
          "output_type": "stream",
          "name": "stdout",
          "text": [
            "6\n",
            "4\n",
            "7\n",
            "1\n",
            "4\n",
            "8\n"
          ]
        }
      ]
    },
    {
      "cell_type": "code",
      "source": [
        "for i in a:\n",
        "  print(i)"
      ],
      "metadata": {
        "colab": {
          "base_uri": "https://localhost:8080/"
        },
        "id": "raFzSgHZJlOS",
        "outputId": "a1016eec-2bf0-4e32-b058-80592fff054e"
      },
      "execution_count": 58,
      "outputs": [
        {
          "output_type": "stream",
          "name": "stdout",
          "text": [
            "6\n",
            "4\n",
            "7\n",
            "1\n",
            "4\n",
            "8\n"
          ]
        }
      ]
    },
    {
      "cell_type": "code",
      "source": [
        "for i in range(0,n):\n",
        "  print(a[i])"
      ],
      "metadata": {
        "colab": {
          "base_uri": "https://localhost:8080/"
        },
        "id": "LNpW4y0tJvsn",
        "outputId": "681e9b99-db4a-46a9-d381-89b511ad97c5"
      },
      "execution_count": 59,
      "outputs": [
        {
          "output_type": "stream",
          "name": "stdout",
          "text": [
            "6\n",
            "4\n",
            "7\n",
            "1\n",
            "4\n",
            "8\n"
          ]
        }
      ]
    },
    {
      "cell_type": "code",
      "source": [
        "#Quiz\n",
        "\n",
        "my_list = [1,2,3,4,5]\n",
        "\n",
        "i = -1\n",
        "\n",
        "while i >=-5:\n",
        "  print(my_list[i], end = \" \")\n",
        "  i -=1"
      ],
      "metadata": {
        "colab": {
          "base_uri": "https://localhost:8080/"
        },
        "id": "0m52A7EWJ3vB",
        "outputId": "b06fe9bd-0c4d-475a-e713-5c0c62a2316f"
      },
      "execution_count": 60,
      "outputs": [
        {
          "output_type": "stream",
          "name": "stdout",
          "text": [
            "5 4 3 2 1 "
          ]
        }
      ]
    },
    {
      "cell_type": "code",
      "source": [
        "#Question:\n",
        "\n",
        "#Q1: Given a list, print the sum of all the elements in it\n",
        "\n",
        "# a = [4, 3 ,6, 1]\n",
        "# op = 14"
      ],
      "metadata": {
        "id": "-vB5OnzwKYbF"
      },
      "execution_count": 61,
      "outputs": []
    },
    {
      "cell_type": "code",
      "source": [
        "a = [4, 3 ,6, 1]\n",
        "sum = 0\n",
        "for i in a:\n",
        "  sum +=i\n",
        "print(sum)"
      ],
      "metadata": {
        "colab": {
          "base_uri": "https://localhost:8080/"
        },
        "id": "NOgGz1OvKdCI",
        "outputId": "38e4f34c-f891-4dab-d728-1c03f627cecf"
      },
      "execution_count": 62,
      "outputs": [
        {
          "output_type": "stream",
          "name": "stdout",
          "text": [
            "14\n"
          ]
        }
      ]
    },
    {
      "cell_type": "code",
      "source": [
        "a = [4, 3 ,6, 1]\n",
        "sum = 0\n",
        "for i in a:\n",
        "  sum +=i\n",
        "  print(sum)\n",
        "\n",
        "print(\"sum : \",sum)"
      ],
      "metadata": {
        "colab": {
          "base_uri": "https://localhost:8080/"
        },
        "id": "Bu7qmvTWKtEe",
        "outputId": "69b83ad9-02ac-4d8f-a074-83c6372c0897"
      },
      "execution_count": 63,
      "outputs": [
        {
          "output_type": "stream",
          "name": "stdout",
          "text": [
            "4\n",
            "7\n",
            "13\n",
            "14\n",
            "sum :  14\n"
          ]
        }
      ]
    },
    {
      "cell_type": "code",
      "source": [
        "a = [4,3,6,1]\n",
        "\n",
        "sum = 0\n",
        "\n",
        "n = len(a)\n",
        "\n",
        "for i in range(n):\n",
        "  sum += a[i]\n",
        "\n",
        "print(sum)"
      ],
      "metadata": {
        "colab": {
          "base_uri": "https://localhost:8080/"
        },
        "id": "imYW8KzjLS6G",
        "outputId": "2c9e9753-5857-4eb6-8f8c-c6b19a4a4313"
      },
      "execution_count": 65,
      "outputs": [
        {
          "output_type": "stream",
          "name": "stdout",
          "text": [
            "14\n"
          ]
        }
      ]
    },
    {
      "cell_type": "code",
      "source": [
        "#Q2: Find the average of all the elements of the list\n",
        "# a = [4, 3 ,6, 1]\n",
        "# op: 14/4 --> 3.5"
      ],
      "metadata": {
        "id": "5PvFQ7YGLs-Q"
      },
      "execution_count": 66,
      "outputs": []
    },
    {
      "cell_type": "code",
      "source": [
        "a = [4, 3 ,6, 1]\n",
        "sum = 0\n",
        "\n",
        "for elem in a:\n",
        "  sum += elem\n",
        "\n",
        "n = len(a)\n",
        "avg = sum/n\n",
        "print(avg)"
      ],
      "metadata": {
        "colab": {
          "base_uri": "https://localhost:8080/"
        },
        "id": "eA6YktT-LwsO",
        "outputId": "42e9c993-50ef-4624-eda7-32a3c897d38a"
      },
      "execution_count": 67,
      "outputs": [
        {
          "output_type": "stream",
          "name": "stdout",
          "text": [
            "3.5\n"
          ]
        }
      ]
    },
    {
      "cell_type": "code",
      "source": [
        "#Quiz\n",
        "\n",
        "my_list = [1,2,3,4,5]\n",
        "\n",
        "i=0\n",
        "\n",
        "while i<len(my_list):\n",
        "  if my_list[i] == 3:\n",
        "    break\n",
        "  print(my_list[i], end = \" \")\n",
        "  i +=1"
      ],
      "metadata": {
        "colab": {
          "base_uri": "https://localhost:8080/"
        },
        "id": "LzaSi7xgMGwJ",
        "outputId": "04bb567d-e853-4471-c9e4-d2e191fbbacd"
      },
      "execution_count": 68,
      "outputs": [
        {
          "output_type": "stream",
          "name": "stdout",
          "text": [
            "1 2 "
          ]
        }
      ]
    },
    {
      "cell_type": "code",
      "source": [
        "my_list = [10,20,30,40,50]\n",
        "i=0\n",
        "while i <len(my_list):\n",
        "  my_list[i] *=2\n",
        "  i +=1\n",
        "\n",
        "print(my_list)"
      ],
      "metadata": {
        "colab": {
          "base_uri": "https://localhost:8080/"
        },
        "id": "4Sjw37kGMjJ2",
        "outputId": "37d7d461-1d99-480a-d2fc-4188207fab5e"
      },
      "execution_count": 69,
      "outputs": [
        {
          "output_type": "stream",
          "name": "stdout",
          "text": [
            "[20, 40, 60, 80, 100]\n"
          ]
        }
      ]
    },
    {
      "cell_type": "code",
      "source": [
        "my_list = [10,20,30,40,50]\n",
        "i=0\n",
        "while i <len(my_list):\n",
        "  my_list[i] = my_list[i] * 2\n",
        "  i +=1\n",
        "\n",
        "print(my_list)"
      ],
      "metadata": {
        "colab": {
          "base_uri": "https://localhost:8080/"
        },
        "id": "8JkZ0QhFM6qh",
        "outputId": "fe7b1800-710b-4083-e6b9-de2988dd24f3"
      },
      "execution_count": 70,
      "outputs": [
        {
          "output_type": "stream",
          "name": "stdout",
          "text": [
            "[20, 40, 60, 80, 100]\n"
          ]
        }
      ]
    },
    {
      "cell_type": "markdown",
      "source": [
        "**Minimum**"
      ],
      "metadata": {
        "id": "-qPjZG56NMAv"
      }
    },
    {
      "cell_type": "code",
      "source": [
        "#find the minimum element in the list\n",
        "\n",
        "a = [7,4,8,2,6]\n",
        "ans = min(a)\n",
        "print(ans)"
      ],
      "metadata": {
        "colab": {
          "base_uri": "https://localhost:8080/"
        },
        "id": "JwyUdwPINE2V",
        "outputId": "60b91a3a-5c2e-4230-ddbd-d2c7c22046f3"
      },
      "execution_count": 71,
      "outputs": [
        {
          "output_type": "stream",
          "name": "stdout",
          "text": [
            "2\n"
          ]
        }
      ]
    },
    {
      "cell_type": "markdown",
      "source": [
        "**Maximum**"
      ],
      "metadata": {
        "id": "8bQRV68_NZMS"
      }
    },
    {
      "cell_type": "code",
      "source": [
        "#find the maximum element in the list\n",
        "\n",
        "a = [7,4,8,2,6]\n",
        "ans = max(a)\n",
        "print(ans)"
      ],
      "metadata": {
        "colab": {
          "base_uri": "https://localhost:8080/"
        },
        "id": "po6YCENYNXEk",
        "outputId": "a85e9ecd-222b-47ca-b0af-ba4cf975a50f"
      },
      "execution_count": 72,
      "outputs": [
        {
          "output_type": "stream",
          "name": "stdout",
          "text": [
            "8\n"
          ]
        }
      ]
    },
    {
      "cell_type": "code",
      "source": [
        "#Quiz\n",
        "\n",
        "a = [\"Adi\", \"Nick\", \"kavin\"]\n",
        "\n",
        "for elem in a:\n",
        "  print(elem)"
      ],
      "metadata": {
        "colab": {
          "base_uri": "https://localhost:8080/"
        },
        "id": "hTtMmfP_NexO",
        "outputId": "6b9ee122-3684-4b98-b660-17534290aff9"
      },
      "execution_count": 73,
      "outputs": [
        {
          "output_type": "stream",
          "name": "stdout",
          "text": [
            "Adi\n",
            "Nick\n",
            "kavin\n"
          ]
        }
      ]
    },
    {
      "cell_type": "code",
      "source": [
        "a = [\"Adi\", \"Nick\", \"kavin\"]\n",
        "\n",
        "n = len(a)\n",
        "\n",
        "for i in range(n):\n",
        "  print(a[i])"
      ],
      "metadata": {
        "colab": {
          "base_uri": "https://localhost:8080/"
        },
        "id": "mZEUMD-rN5Ve",
        "outputId": "5603ae69-6813-42af-8600-1a483d951a1e"
      },
      "execution_count": 74,
      "outputs": [
        {
          "output_type": "stream",
          "name": "stdout",
          "text": [
            "Adi\n",
            "Nick\n",
            "kavin\n"
          ]
        }
      ]
    },
    {
      "cell_type": "code",
      "source": [],
      "metadata": {
        "id": "7-iQ_3qvOGS0"
      },
      "execution_count": null,
      "outputs": []
    }
  ]
}